{
  "cells": [
    {
      "cell_type": "markdown",
      "metadata": {
        "id": "fOkK6RIGl_Yo"
      },
      "source": [
        "## Case Studies in Artificial Intelligence and Machine Learning\n",
        "### Unit 4: Interim Results\n",
        "\n",
        "### Group 4\n",
        "| Student Id     | Name                     |\n",
        "|----------------|--------------------------|\n",
        "| 9027375        | Khushbu Lad              |\n",
        "| 8944328        | Akshata Madhav           |\n",
        "| 8964515        | Neha Yadav               |\n",
        "| 8965985        | Pradeepti Kasam          |\n",
        "| 8914803        | Rohit Totlani            |\n",
        "\n",
        "Dataset URL:\n",
        "\n",
        "[Skin Cancer MNIST: HAM10000](https://www.kaggle.com/datasets/kmader/skin-cancer-mnist-ham10000)"
      ]
    },
    {
      "cell_type": "markdown",
      "metadata": {
        "id": "7uMJQdktFFH1"
      },
      "source": [
        "### Step 1: Install Required Libraries"
      ]
    },
    {
      "cell_type": "code",
      "execution_count": 1,
      "metadata": {
        "colab": {
          "base_uri": "https://localhost:8080/"
        },
        "id": "HBMDBVwODA9j",
        "outputId": "05fc07fa-c696-45ee-9903-db7bf165b983"
      },
      "outputs": [
        {
          "name": "stdout",
          "output_type": "stream",
          "text": [
            "Requirement already satisfied: pandas in c:\\users\\khushbu.lad\\appdata\\local\\programs\\python\\python312\\lib\\site-packages (2.2.3)\n",
            "Requirement already satisfied: numpy in c:\\users\\khushbu.lad\\appdata\\local\\programs\\python\\python312\\lib\\site-packages (1.26.4)\n",
            "Requirement already satisfied: matplotlib in c:\\users\\khushbu.lad\\appdata\\local\\programs\\python\\python312\\lib\\site-packages (3.10.1)\n",
            "Requirement already satisfied: seaborn in c:\\users\\khushbu.lad\\appdata\\local\\programs\\python\\python312\\lib\\site-packages (0.13.2)\n",
            "Requirement already satisfied: scipy in c:\\users\\khushbu.lad\\appdata\\local\\programs\\python\\python312\\lib\\site-packages (1.15.2)\n",
            "Requirement already satisfied: scikit-learn in c:\\users\\khushbu.lad\\appdata\\local\\programs\\python\\python312\\lib\\site-packages (1.6.1)\n",
            "Requirement already satisfied: python-dateutil>=2.8.2 in c:\\users\\khushbu.lad\\appdata\\roaming\\python\\python312\\site-packages (from pandas) (2.9.0.post0)\n",
            "Requirement already satisfied: pytz>=2020.1 in c:\\users\\khushbu.lad\\appdata\\local\\programs\\python\\python312\\lib\\site-packages (from pandas) (2024.2)\n",
            "Requirement already satisfied: tzdata>=2022.7 in c:\\users\\khushbu.lad\\appdata\\local\\programs\\python\\python312\\lib\\site-packages (from pandas) (2024.1)\n",
            "Requirement already satisfied: contourpy>=1.0.1 in c:\\users\\khushbu.lad\\appdata\\local\\programs\\python\\python312\\lib\\site-packages (from matplotlib) (1.3.1)\n",
            "Requirement already satisfied: cycler>=0.10 in c:\\users\\khushbu.lad\\appdata\\local\\programs\\python\\python312\\lib\\site-packages (from matplotlib) (0.12.1)\n",
            "Requirement already satisfied: fonttools>=4.22.0 in c:\\users\\khushbu.lad\\appdata\\local\\programs\\python\\python312\\lib\\site-packages (from matplotlib) (4.56.0)\n",
            "Requirement already satisfied: kiwisolver>=1.3.1 in c:\\users\\khushbu.lad\\appdata\\local\\programs\\python\\python312\\lib\\site-packages (from matplotlib) (1.4.8)\n",
            "Requirement already satisfied: packaging>=20.0 in c:\\users\\khushbu.lad\\appdata\\roaming\\python\\python312\\site-packages (from matplotlib) (24.1)\n",
            "Requirement already satisfied: pillow>=8 in c:\\users\\khushbu.lad\\appdata\\local\\programs\\python\\python312\\lib\\site-packages (from matplotlib) (11.1.0)\n",
            "Requirement already satisfied: pyparsing>=2.3.1 in c:\\users\\khushbu.lad\\appdata\\local\\programs\\python\\python312\\lib\\site-packages (from matplotlib) (3.2.1)\n",
            "Requirement already satisfied: joblib>=1.2.0 in c:\\users\\khushbu.lad\\appdata\\local\\programs\\python\\python312\\lib\\site-packages (from scikit-learn) (1.4.2)\n",
            "Requirement already satisfied: threadpoolctl>=3.1.0 in c:\\users\\khushbu.lad\\appdata\\local\\programs\\python\\python312\\lib\\site-packages (from scikit-learn) (3.5.0)\n",
            "Requirement already satisfied: six>=1.5 in c:\\users\\khushbu.lad\\appdata\\roaming\\python\\python312\\site-packages (from python-dateutil>=2.8.2->pandas) (1.16.0)\n"
          ]
        },
        {
          "name": "stderr",
          "output_type": "stream",
          "text": [
            "\n",
            "[notice] A new release of pip is available: 24.2 -> 25.0.1\n",
            "[notice] To update, run: python.exe -m pip install --upgrade pip\n"
          ]
        }
      ],
      "source": [
        "!pip install pandas numpy matplotlib seaborn scipy scikit-learn"
      ]
    },
    {
      "cell_type": "markdown",
      "metadata": {
        "id": "pT8tT7eXFssj"
      },
      "source": [
        "### Step 2: Import Libraries"
      ]
    },
    {
      "cell_type": "code",
      "execution_count": null,
      "metadata": {
        "id": "oerVIqzBEgSs"
      },
      "outputs": [
        {
          "ename": "ModuleNotFoundError",
          "evalue": "No module named 'google.colab'",
          "output_type": "error",
          "traceback": [
            "\u001b[1;31m---------------------------------------------------------------------------\u001b[0m",
            "\u001b[1;31mModuleNotFoundError\u001b[0m                       Traceback (most recent call last)",
            "Cell \u001b[1;32mIn[2], line 7\u001b[0m\n\u001b[0;32m      5\u001b[0m \u001b[38;5;28;01mfrom\u001b[39;00m \u001b[38;5;21;01mscipy\u001b[39;00m \u001b[38;5;28;01mimport\u001b[39;00m stats\n\u001b[0;32m      6\u001b[0m \u001b[38;5;28;01mfrom\u001b[39;00m \u001b[38;5;21;01msklearn\u001b[39;00m\u001b[38;5;21;01m.\u001b[39;00m\u001b[38;5;21;01mpreprocessing\u001b[39;00m \u001b[38;5;28;01mimport\u001b[39;00m LabelEncoder\n\u001b[1;32m----> 7\u001b[0m \u001b[38;5;28;01mfrom\u001b[39;00m \u001b[38;5;21;01mgoogle\u001b[39;00m\u001b[38;5;21;01m.\u001b[39;00m\u001b[38;5;21;01mcolab\u001b[39;00m \u001b[38;5;28;01mimport\u001b[39;00m drive\n\u001b[0;32m      8\u001b[0m \u001b[38;5;28;01mimport\u001b[39;00m \u001b[38;5;21;01msys\u001b[39;00m\n\u001b[0;32m      9\u001b[0m \u001b[38;5;28;01mimport\u001b[39;00m \u001b[38;5;21;01mos\u001b[39;00m\n",
            "\u001b[1;31mModuleNotFoundError\u001b[0m: No module named 'google.colab'"
          ]
        }
      ],
      "source": [
        "import pandas as pd\n",
        "import numpy as np\n",
        "import matplotlib.pyplot as plt\n",
        "import seaborn as sns\n",
        "from scipy import stats\n",
        "from sklearn.preprocessing import LabelEncoder\n",
        "# from google.colab import drive\n",
        "import sys\n",
        "import os"
      ]
    },
    {
      "cell_type": "markdown",
      "metadata": {
        "id": "4IxLivMiF0Ay"
      },
      "source": [
        "### Step 3: Load the Dataset"
      ]
    },
    {
      "cell_type": "markdown",
      "metadata": {
        "id": "74cUMNN5nKBp"
      },
      "source": [
        "**NOTE:**\n",
        "\n",
        "- Our dataset is large containing images of 2.9GB.\n",
        "- The file is configured as it can run in local as well as in google collab.\n",
        "- if you are setting up file for google drive, no configuration is requred.\n",
        "- if this project needs to setup in local device, download the dataset from link in header and extract zip in \"dataset\" folder in project directory\n",
        "- Set the correct file path for the dataset:\n",
        "- data_path = \"/content/HAM10000_metadata.csv\"\n",
        "- Ensure that the path is updated to match the actual location of the file on your system.\n"
      ]
    },
    {
      "cell_type": "code",
      "execution_count": null,
      "metadata": {
        "id": "VmzLX1_KH_t7"
      },
      "outputs": [],
      "source": [
        "# Detect Google Colab\n",
        "IN_COLAB = False\n",
        "try:\n",
        "    import google.colab\n",
        "    IN_COLAB = True\n",
        "except ModuleNotFoundError:\n",
        "    pass"
      ]
    },
    {
      "cell_type": "code",
      "execution_count": null,
      "metadata": {
        "colab": {
          "base_uri": "https://localhost:8080/"
        },
        "id": "HTI5nvLvFuE7",
        "outputId": "c94428b2-38fc-478f-eda6-42e76cdcc144"
      },
      "outputs": [
        {
          "name": "stdout",
          "output_type": "stream",
          "text": [
            "Mounted at /content/drive\n"
          ]
        }
      ],
      "source": [
        "# Detect Google Colab\n",
        "IN_COLAB = 'google.colab' in sys.modules\n",
        "\n",
        "if IN_COLAB:\n",
        "    from google.colab import drive\n",
        "    drive.mount('/content/drive')\n",
        "    DATA_PATH = \"/content/drive/MyDrive/dataset/\"\n",
        "else:\n",
        "    DATA_PATH = \"./\"\n",
        "\n",
        "# Download dataset in kaggle\n",
        "if IN_COLAB and not os.path.exists(DATA_PATH + \"HAM10000_metadata.csv\"):\n",
        "    !pip install kaggle\n",
        "    from google.colab import files\n",
        "    files.upload()  # Upload kaggle.json manually (for API authentication)\n",
        "\n",
        "    !mkdir -p ~/.kaggle\n",
        "    !cp kaggle.json ~/.kaggle/\n",
        "    !chmod 600 ~/.kaggle/kaggle.json\n",
        "    !kaggle datasets download -d kmader/skin-cancer-mnist-ham10000 -p {DATA_PATH} --unzip\n",
        "    print(\"Dataset downloaded and extracted.\")\n",
        "\n",
        "# Initialize required path\n",
        "metadata_path = os.path.join(DATA_PATH, \"HAM10000_metadata.csv\")\n",
        "images_path = os.path.join(DATA_PATH, \"HAM10000_images_part_1/\")\n",
        "\n",
        "df = pd.read_csv(metadata_path)"
      ]
    },
    {
      "cell_type": "code",
      "execution_count": null,
      "metadata": {
        "colab": {
          "base_uri": "https://localhost:8080/"
        },
        "id": "oXxll4red7-D",
        "outputId": "a2330fe0-c0f8-41d0-b182-dab0cd0331c7"
      },
      "outputs": [
        {
          "name": "stdout",
          "output_type": "stream",
          "text": [
            "Drive already mounted at /content/drive; to attempt to forcibly remount, call drive.mount(\"/content/drive\", force_remount=True).\n"
          ]
        }
      ],
      "source": [
        "from google.colab import drive\n",
        "drive.mount('/content/drive')"
      ]
    },
    {
      "cell_type": "code",
      "execution_count": null,
      "metadata": {
        "colab": {
          "base_uri": "https://localhost:8080/",
          "height": 206
        },
        "id": "N2wH9w0mGEDv",
        "outputId": "c31fb66e-ed73-4f45-b48e-1f037b265f96"
      },
      "outputs": [
        {
          "data": {
            "application/vnd.google.colaboratory.intrinsic+json": {
              "summary": "{\n  \"name\": \"df\",\n  \"rows\": 10015,\n  \"fields\": [\n    {\n      \"column\": \"lesion_id\",\n      \"properties\": {\n        \"dtype\": \"string\",\n        \"num_unique_values\": 7470,\n        \"samples\": [\n          \"HAM_0002743\",\n          \"HAM_0004142\",\n          \"HAM_0003658\"\n        ],\n        \"semantic_type\": \"\",\n        \"description\": \"\"\n      }\n    },\n    {\n      \"column\": \"image_id\",\n      \"properties\": {\n        \"dtype\": \"string\",\n        \"num_unique_values\": 10015,\n        \"samples\": [\n          \"ISIC_0033272\",\n          \"ISIC_0031923\",\n          \"ISIC_0026652\"\n        ],\n        \"semantic_type\": \"\",\n        \"description\": \"\"\n      }\n    },\n    {\n      \"column\": \"dx\",\n      \"properties\": {\n        \"dtype\": \"category\",\n        \"num_unique_values\": 7,\n        \"samples\": [\n          \"bkl\",\n          \"nv\",\n          \"bcc\"\n        ],\n        \"semantic_type\": \"\",\n        \"description\": \"\"\n      }\n    },\n    {\n      \"column\": \"dx_type\",\n      \"properties\": {\n        \"dtype\": \"category\",\n        \"num_unique_values\": 4,\n        \"samples\": [\n          \"consensus\",\n          \"follow_up\",\n          \"histo\"\n        ],\n        \"semantic_type\": \"\",\n        \"description\": \"\"\n      }\n    },\n    {\n      \"column\": \"age\",\n      \"properties\": {\n        \"dtype\": \"number\",\n        \"std\": 16.96861369249538,\n        \"min\": 0.0,\n        \"max\": 85.0,\n        \"num_unique_values\": 18,\n        \"samples\": [\n          80.0,\n          75.0,\n          50.0\n        ],\n        \"semantic_type\": \"\",\n        \"description\": \"\"\n      }\n    },\n    {\n      \"column\": \"sex\",\n      \"properties\": {\n        \"dtype\": \"category\",\n        \"num_unique_values\": 3,\n        \"samples\": [\n          \"male\",\n          \"female\",\n          \"unknown\"\n        ],\n        \"semantic_type\": \"\",\n        \"description\": \"\"\n      }\n    },\n    {\n      \"column\": \"localization\",\n      \"properties\": {\n        \"dtype\": \"category\",\n        \"num_unique_values\": 15,\n        \"samples\": [\n          \"lower extremity\",\n          \"neck\",\n          \"scalp\"\n        ],\n        \"semantic_type\": \"\",\n        \"description\": \"\"\n      }\n    }\n  ]\n}",
              "type": "dataframe",
              "variable_name": "df"
            },
            "text/html": [
              "\n",
              "  <div id=\"df-5590f6f5-293d-4100-af99-5b4b0eb21aa8\" class=\"colab-df-container\">\n",
              "    <div>\n",
              "<style scoped>\n",
              "    .dataframe tbody tr th:only-of-type {\n",
              "        vertical-align: middle;\n",
              "    }\n",
              "\n",
              "    .dataframe tbody tr th {\n",
              "        vertical-align: top;\n",
              "    }\n",
              "\n",
              "    .dataframe thead th {\n",
              "        text-align: right;\n",
              "    }\n",
              "</style>\n",
              "<table border=\"1\" class=\"dataframe\">\n",
              "  <thead>\n",
              "    <tr style=\"text-align: right;\">\n",
              "      <th></th>\n",
              "      <th>lesion_id</th>\n",
              "      <th>image_id</th>\n",
              "      <th>dx</th>\n",
              "      <th>dx_type</th>\n",
              "      <th>age</th>\n",
              "      <th>sex</th>\n",
              "      <th>localization</th>\n",
              "    </tr>\n",
              "  </thead>\n",
              "  <tbody>\n",
              "    <tr>\n",
              "      <th>0</th>\n",
              "      <td>HAM_0000118</td>\n",
              "      <td>ISIC_0027419</td>\n",
              "      <td>bkl</td>\n",
              "      <td>histo</td>\n",
              "      <td>80.0</td>\n",
              "      <td>male</td>\n",
              "      <td>scalp</td>\n",
              "    </tr>\n",
              "    <tr>\n",
              "      <th>1</th>\n",
              "      <td>HAM_0000118</td>\n",
              "      <td>ISIC_0025030</td>\n",
              "      <td>bkl</td>\n",
              "      <td>histo</td>\n",
              "      <td>80.0</td>\n",
              "      <td>male</td>\n",
              "      <td>scalp</td>\n",
              "    </tr>\n",
              "    <tr>\n",
              "      <th>2</th>\n",
              "      <td>HAM_0002730</td>\n",
              "      <td>ISIC_0026769</td>\n",
              "      <td>bkl</td>\n",
              "      <td>histo</td>\n",
              "      <td>80.0</td>\n",
              "      <td>male</td>\n",
              "      <td>scalp</td>\n",
              "    </tr>\n",
              "    <tr>\n",
              "      <th>3</th>\n",
              "      <td>HAM_0002730</td>\n",
              "      <td>ISIC_0025661</td>\n",
              "      <td>bkl</td>\n",
              "      <td>histo</td>\n",
              "      <td>80.0</td>\n",
              "      <td>male</td>\n",
              "      <td>scalp</td>\n",
              "    </tr>\n",
              "    <tr>\n",
              "      <th>4</th>\n",
              "      <td>HAM_0001466</td>\n",
              "      <td>ISIC_0031633</td>\n",
              "      <td>bkl</td>\n",
              "      <td>histo</td>\n",
              "      <td>75.0</td>\n",
              "      <td>male</td>\n",
              "      <td>ear</td>\n",
              "    </tr>\n",
              "  </tbody>\n",
              "</table>\n",
              "</div>\n",
              "    <div class=\"colab-df-buttons\">\n",
              "\n",
              "  <div class=\"colab-df-container\">\n",
              "    <button class=\"colab-df-convert\" onclick=\"convertToInteractive('df-5590f6f5-293d-4100-af99-5b4b0eb21aa8')\"\n",
              "            title=\"Convert this dataframe to an interactive table.\"\n",
              "            style=\"display:none;\">\n",
              "\n",
              "  <svg xmlns=\"http://www.w3.org/2000/svg\" height=\"24px\" viewBox=\"0 -960 960 960\">\n",
              "    <path d=\"M120-120v-720h720v720H120Zm60-500h600v-160H180v160Zm220 220h160v-160H400v160Zm0 220h160v-160H400v160ZM180-400h160v-160H180v160Zm440 0h160v-160H620v160ZM180-180h160v-160H180v160Zm440 0h160v-160H620v160Z\"/>\n",
              "  </svg>\n",
              "    </button>\n",
              "\n",
              "  <style>\n",
              "    .colab-df-container {\n",
              "      display:flex;\n",
              "      gap: 12px;\n",
              "    }\n",
              "\n",
              "    .colab-df-convert {\n",
              "      background-color: #E8F0FE;\n",
              "      border: none;\n",
              "      border-radius: 50%;\n",
              "      cursor: pointer;\n",
              "      display: none;\n",
              "      fill: #1967D2;\n",
              "      height: 32px;\n",
              "      padding: 0 0 0 0;\n",
              "      width: 32px;\n",
              "    }\n",
              "\n",
              "    .colab-df-convert:hover {\n",
              "      background-color: #E2EBFA;\n",
              "      box-shadow: 0px 1px 2px rgba(60, 64, 67, 0.3), 0px 1px 3px 1px rgba(60, 64, 67, 0.15);\n",
              "      fill: #174EA6;\n",
              "    }\n",
              "\n",
              "    .colab-df-buttons div {\n",
              "      margin-bottom: 4px;\n",
              "    }\n",
              "\n",
              "    [theme=dark] .colab-df-convert {\n",
              "      background-color: #3B4455;\n",
              "      fill: #D2E3FC;\n",
              "    }\n",
              "\n",
              "    [theme=dark] .colab-df-convert:hover {\n",
              "      background-color: #434B5C;\n",
              "      box-shadow: 0px 1px 3px 1px rgba(0, 0, 0, 0.15);\n",
              "      filter: drop-shadow(0px 1px 2px rgba(0, 0, 0, 0.3));\n",
              "      fill: #FFFFFF;\n",
              "    }\n",
              "  </style>\n",
              "\n",
              "    <script>\n",
              "      const buttonEl =\n",
              "        document.querySelector('#df-5590f6f5-293d-4100-af99-5b4b0eb21aa8 button.colab-df-convert');\n",
              "      buttonEl.style.display =\n",
              "        google.colab.kernel.accessAllowed ? 'block' : 'none';\n",
              "\n",
              "      async function convertToInteractive(key) {\n",
              "        const element = document.querySelector('#df-5590f6f5-293d-4100-af99-5b4b0eb21aa8');\n",
              "        const dataTable =\n",
              "          await google.colab.kernel.invokeFunction('convertToInteractive',\n",
              "                                                    [key], {});\n",
              "        if (!dataTable) return;\n",
              "\n",
              "        const docLinkHtml = 'Like what you see? Visit the ' +\n",
              "          '<a target=\"_blank\" href=https://colab.research.google.com/notebooks/data_table.ipynb>data table notebook</a>'\n",
              "          + ' to learn more about interactive tables.';\n",
              "        element.innerHTML = '';\n",
              "        dataTable['output_type'] = 'display_data';\n",
              "        await google.colab.output.renderOutput(dataTable, element);\n",
              "        const docLink = document.createElement('div');\n",
              "        docLink.innerHTML = docLinkHtml;\n",
              "        element.appendChild(docLink);\n",
              "      }\n",
              "    </script>\n",
              "  </div>\n",
              "\n",
              "\n",
              "<div id=\"df-7761d85f-e977-4cc3-94eb-31dbe8469159\">\n",
              "  <button class=\"colab-df-quickchart\" onclick=\"quickchart('df-7761d85f-e977-4cc3-94eb-31dbe8469159')\"\n",
              "            title=\"Suggest charts\"\n",
              "            style=\"display:none;\">\n",
              "\n",
              "<svg xmlns=\"http://www.w3.org/2000/svg\" height=\"24px\"viewBox=\"0 0 24 24\"\n",
              "     width=\"24px\">\n",
              "    <g>\n",
              "        <path d=\"M19 3H5c-1.1 0-2 .9-2 2v14c0 1.1.9 2 2 2h14c1.1 0 2-.9 2-2V5c0-1.1-.9-2-2-2zM9 17H7v-7h2v7zm4 0h-2V7h2v10zm4 0h-2v-4h2v4z\"/>\n",
              "    </g>\n",
              "</svg>\n",
              "  </button>\n",
              "\n",
              "<style>\n",
              "  .colab-df-quickchart {\n",
              "      --bg-color: #E8F0FE;\n",
              "      --fill-color: #1967D2;\n",
              "      --hover-bg-color: #E2EBFA;\n",
              "      --hover-fill-color: #174EA6;\n",
              "      --disabled-fill-color: #AAA;\n",
              "      --disabled-bg-color: #DDD;\n",
              "  }\n",
              "\n",
              "  [theme=dark] .colab-df-quickchart {\n",
              "      --bg-color: #3B4455;\n",
              "      --fill-color: #D2E3FC;\n",
              "      --hover-bg-color: #434B5C;\n",
              "      --hover-fill-color: #FFFFFF;\n",
              "      --disabled-bg-color: #3B4455;\n",
              "      --disabled-fill-color: #666;\n",
              "  }\n",
              "\n",
              "  .colab-df-quickchart {\n",
              "    background-color: var(--bg-color);\n",
              "    border: none;\n",
              "    border-radius: 50%;\n",
              "    cursor: pointer;\n",
              "    display: none;\n",
              "    fill: var(--fill-color);\n",
              "    height: 32px;\n",
              "    padding: 0;\n",
              "    width: 32px;\n",
              "  }\n",
              "\n",
              "  .colab-df-quickchart:hover {\n",
              "    background-color: var(--hover-bg-color);\n",
              "    box-shadow: 0 1px 2px rgba(60, 64, 67, 0.3), 0 1px 3px 1px rgba(60, 64, 67, 0.15);\n",
              "    fill: var(--button-hover-fill-color);\n",
              "  }\n",
              "\n",
              "  .colab-df-quickchart-complete:disabled,\n",
              "  .colab-df-quickchart-complete:disabled:hover {\n",
              "    background-color: var(--disabled-bg-color);\n",
              "    fill: var(--disabled-fill-color);\n",
              "    box-shadow: none;\n",
              "  }\n",
              "\n",
              "  .colab-df-spinner {\n",
              "    border: 2px solid var(--fill-color);\n",
              "    border-color: transparent;\n",
              "    border-bottom-color: var(--fill-color);\n",
              "    animation:\n",
              "      spin 1s steps(1) infinite;\n",
              "  }\n",
              "\n",
              "  @keyframes spin {\n",
              "    0% {\n",
              "      border-color: transparent;\n",
              "      border-bottom-color: var(--fill-color);\n",
              "      border-left-color: var(--fill-color);\n",
              "    }\n",
              "    20% {\n",
              "      border-color: transparent;\n",
              "      border-left-color: var(--fill-color);\n",
              "      border-top-color: var(--fill-color);\n",
              "    }\n",
              "    30% {\n",
              "      border-color: transparent;\n",
              "      border-left-color: var(--fill-color);\n",
              "      border-top-color: var(--fill-color);\n",
              "      border-right-color: var(--fill-color);\n",
              "    }\n",
              "    40% {\n",
              "      border-color: transparent;\n",
              "      border-right-color: var(--fill-color);\n",
              "      border-top-color: var(--fill-color);\n",
              "    }\n",
              "    60% {\n",
              "      border-color: transparent;\n",
              "      border-right-color: var(--fill-color);\n",
              "    }\n",
              "    80% {\n",
              "      border-color: transparent;\n",
              "      border-right-color: var(--fill-color);\n",
              "      border-bottom-color: var(--fill-color);\n",
              "    }\n",
              "    90% {\n",
              "      border-color: transparent;\n",
              "      border-bottom-color: var(--fill-color);\n",
              "    }\n",
              "  }\n",
              "</style>\n",
              "\n",
              "  <script>\n",
              "    async function quickchart(key) {\n",
              "      const quickchartButtonEl =\n",
              "        document.querySelector('#' + key + ' button');\n",
              "      quickchartButtonEl.disabled = true;  // To prevent multiple clicks.\n",
              "      quickchartButtonEl.classList.add('colab-df-spinner');\n",
              "      try {\n",
              "        const charts = await google.colab.kernel.invokeFunction(\n",
              "            'suggestCharts', [key], {});\n",
              "      } catch (error) {\n",
              "        console.error('Error during call to suggestCharts:', error);\n",
              "      }\n",
              "      quickchartButtonEl.classList.remove('colab-df-spinner');\n",
              "      quickchartButtonEl.classList.add('colab-df-quickchart-complete');\n",
              "    }\n",
              "    (() => {\n",
              "      let quickchartButtonEl =\n",
              "        document.querySelector('#df-7761d85f-e977-4cc3-94eb-31dbe8469159 button');\n",
              "      quickchartButtonEl.style.display =\n",
              "        google.colab.kernel.accessAllowed ? 'block' : 'none';\n",
              "    })();\n",
              "  </script>\n",
              "</div>\n",
              "\n",
              "    </div>\n",
              "  </div>\n"
            ],
            "text/plain": [
              "     lesion_id      image_id   dx dx_type   age   sex localization\n",
              "0  HAM_0000118  ISIC_0027419  bkl   histo  80.0  male        scalp\n",
              "1  HAM_0000118  ISIC_0025030  bkl   histo  80.0  male        scalp\n",
              "2  HAM_0002730  ISIC_0026769  bkl   histo  80.0  male        scalp\n",
              "3  HAM_0002730  ISIC_0025661  bkl   histo  80.0  male        scalp\n",
              "4  HAM_0001466  ISIC_0031633  bkl   histo  75.0  male          ear"
            ]
          },
          "execution_count": 6,
          "metadata": {},
          "output_type": "execute_result"
        }
      ],
      "source": [
        "#code to check sample data\n",
        "df.head()"
      ]
    },
    {
      "cell_type": "markdown",
      "metadata": {
        "id": "sRpOWEByGPuE"
      },
      "source": [
        "### Step 4: Basic Exploration"
      ]
    },
    {
      "cell_type": "code",
      "execution_count": null,
      "metadata": {
        "colab": {
          "base_uri": "https://localhost:8080/"
        },
        "id": "eHhif5-AGMlB",
        "outputId": "b52bef16-cae4-47dd-f56d-ebd98dcdfeeb"
      },
      "outputs": [
        {
          "name": "stdout",
          "output_type": "stream",
          "text": [
            "Number of rows:  10015\n",
            "Number of columns:  7\n",
            "\n",
            "\n",
            "Column Names: Index(['lesion_id', 'image_id', 'dx', 'dx_type', 'age', 'sex', 'localization'], dtype='object')\n",
            "\n",
            "\n",
            "Missing Values:\n",
            " lesion_id        0\n",
            "image_id         0\n",
            "dx               0\n",
            "dx_type          0\n",
            "age             57\n",
            "sex              0\n",
            "localization     0\n",
            "dtype: int64\n"
          ]
        }
      ],
      "source": [
        "print(\"Number of rows: \", df.shape[0])\n",
        "print(\"Number of columns: \", df.shape[1])\n",
        "print(\"\\n\")\n",
        "print(\"Column Names:\", df.columns)\n",
        "print(\"\\n\")\n",
        "print(\"Missing Values:\\n\", df.isnull().sum())"
      ]
    },
    {
      "cell_type": "markdown",
      "metadata": {
        "id": "d2YFNYJUGgN2"
      },
      "source": [
        "### Step 5: Data Preprocessing\n"
      ]
    },
    {
      "cell_type": "markdown",
      "metadata": {
        "id": "7wvJlfpqKV1S"
      },
      "source": [
        "1. Age column has 57 missing value, updating missing value with median"
      ]
    },
    {
      "cell_type": "code",
      "execution_count": null,
      "metadata": {
        "id": "dHoMNgrUGkGh"
      },
      "outputs": [],
      "source": [
        "# Fill missing age values with the median age\n",
        "df['age'] = df['age'].fillna(df['age'].median())"
      ]
    },
    {
      "cell_type": "markdown",
      "metadata": {
        "id": "gymqWd_cKlfV"
      },
      "source": [
        "2. There are 3 categorical variables, Using label encoder to convert these string to numerical columns\n",
        "    1. Gender\n",
        "    2. Diagnosis class\n",
        "    3. Localization\n"
      ]
    },
    {
      "cell_type": "code",
      "execution_count": null,
      "metadata": {
        "colab": {
          "base_uri": "https://localhost:8080/",
          "height": 206
        },
        "id": "YSL5LIcTGqrq",
        "outputId": "767558f2-0967-4973-9180-ab101bd6b883"
      },
      "outputs": [
        {
          "data": {
            "application/vnd.google.colaboratory.intrinsic+json": {
              "summary": "{\n  \"name\": \"df\",\n  \"rows\": 10015,\n  \"fields\": [\n    {\n      \"column\": \"lesion_id\",\n      \"properties\": {\n        \"dtype\": \"string\",\n        \"num_unique_values\": 7470,\n        \"samples\": [\n          \"HAM_0002743\",\n          \"HAM_0004142\",\n          \"HAM_0003658\"\n        ],\n        \"semantic_type\": \"\",\n        \"description\": \"\"\n      }\n    },\n    {\n      \"column\": \"image_id\",\n      \"properties\": {\n        \"dtype\": \"string\",\n        \"num_unique_values\": 10015,\n        \"samples\": [\n          \"ISIC_0033272\",\n          \"ISIC_0031923\",\n          \"ISIC_0026652\"\n        ],\n        \"semantic_type\": \"\",\n        \"description\": \"\"\n      }\n    },\n    {\n      \"column\": \"dx\",\n      \"properties\": {\n        \"dtype\": \"number\",\n        \"std\": 1,\n        \"min\": 0,\n        \"max\": 6,\n        \"num_unique_values\": 7,\n        \"samples\": [\n          2,\n          5,\n          1\n        ],\n        \"semantic_type\": \"\",\n        \"description\": \"\"\n      }\n    },\n    {\n      \"column\": \"dx_type\",\n      \"properties\": {\n        \"dtype\": \"category\",\n        \"num_unique_values\": 4,\n        \"samples\": [\n          \"consensus\",\n          \"follow_up\",\n          \"histo\"\n        ],\n        \"semantic_type\": \"\",\n        \"description\": \"\"\n      }\n    },\n    {\n      \"column\": \"age\",\n      \"properties\": {\n        \"dtype\": \"number\",\n        \"std\": 16.92083280896116,\n        \"min\": 0.0,\n        \"max\": 85.0,\n        \"num_unique_values\": 18,\n        \"samples\": [\n          80.0,\n          75.0,\n          50.0\n        ],\n        \"semantic_type\": \"\",\n        \"description\": \"\"\n      }\n    },\n    {\n      \"column\": \"sex\",\n      \"properties\": {\n        \"dtype\": \"number\",\n        \"std\": 0,\n        \"min\": 0,\n        \"max\": 2,\n        \"num_unique_values\": 3,\n        \"samples\": [\n          1,\n          0,\n          2\n        ],\n        \"semantic_type\": \"\",\n        \"description\": \"\"\n      }\n    },\n    {\n      \"column\": \"localization\",\n      \"properties\": {\n        \"dtype\": \"number\",\n        \"std\": 4,\n        \"min\": 0,\n        \"max\": 14,\n        \"num_unique_values\": 15,\n        \"samples\": [\n          9,\n          10,\n          11\n        ],\n        \"semantic_type\": \"\",\n        \"description\": \"\"\n      }\n    }\n  ]\n}",
              "type": "dataframe",
              "variable_name": "df"
            },
            "text/html": [
              "\n",
              "  <div id=\"df-0a0a65ec-1cbb-4ec3-a844-ff5801992b34\" class=\"colab-df-container\">\n",
              "    <div>\n",
              "<style scoped>\n",
              "    .dataframe tbody tr th:only-of-type {\n",
              "        vertical-align: middle;\n",
              "    }\n",
              "\n",
              "    .dataframe tbody tr th {\n",
              "        vertical-align: top;\n",
              "    }\n",
              "\n",
              "    .dataframe thead th {\n",
              "        text-align: right;\n",
              "    }\n",
              "</style>\n",
              "<table border=\"1\" class=\"dataframe\">\n",
              "  <thead>\n",
              "    <tr style=\"text-align: right;\">\n",
              "      <th></th>\n",
              "      <th>lesion_id</th>\n",
              "      <th>image_id</th>\n",
              "      <th>dx</th>\n",
              "      <th>dx_type</th>\n",
              "      <th>age</th>\n",
              "      <th>sex</th>\n",
              "      <th>localization</th>\n",
              "    </tr>\n",
              "  </thead>\n",
              "  <tbody>\n",
              "    <tr>\n",
              "      <th>0</th>\n",
              "      <td>HAM_0000118</td>\n",
              "      <td>ISIC_0027419</td>\n",
              "      <td>2</td>\n",
              "      <td>histo</td>\n",
              "      <td>80.0</td>\n",
              "      <td>1</td>\n",
              "      <td>11</td>\n",
              "    </tr>\n",
              "    <tr>\n",
              "      <th>1</th>\n",
              "      <td>HAM_0000118</td>\n",
              "      <td>ISIC_0025030</td>\n",
              "      <td>2</td>\n",
              "      <td>histo</td>\n",
              "      <td>80.0</td>\n",
              "      <td>1</td>\n",
              "      <td>11</td>\n",
              "    </tr>\n",
              "    <tr>\n",
              "      <th>2</th>\n",
              "      <td>HAM_0002730</td>\n",
              "      <td>ISIC_0026769</td>\n",
              "      <td>2</td>\n",
              "      <td>histo</td>\n",
              "      <td>80.0</td>\n",
              "      <td>1</td>\n",
              "      <td>11</td>\n",
              "    </tr>\n",
              "    <tr>\n",
              "      <th>3</th>\n",
              "      <td>HAM_0002730</td>\n",
              "      <td>ISIC_0025661</td>\n",
              "      <td>2</td>\n",
              "      <td>histo</td>\n",
              "      <td>80.0</td>\n",
              "      <td>1</td>\n",
              "      <td>11</td>\n",
              "    </tr>\n",
              "    <tr>\n",
              "      <th>4</th>\n",
              "      <td>HAM_0001466</td>\n",
              "      <td>ISIC_0031633</td>\n",
              "      <td>2</td>\n",
              "      <td>histo</td>\n",
              "      <td>75.0</td>\n",
              "      <td>1</td>\n",
              "      <td>4</td>\n",
              "    </tr>\n",
              "  </tbody>\n",
              "</table>\n",
              "</div>\n",
              "    <div class=\"colab-df-buttons\">\n",
              "\n",
              "  <div class=\"colab-df-container\">\n",
              "    <button class=\"colab-df-convert\" onclick=\"convertToInteractive('df-0a0a65ec-1cbb-4ec3-a844-ff5801992b34')\"\n",
              "            title=\"Convert this dataframe to an interactive table.\"\n",
              "            style=\"display:none;\">\n",
              "\n",
              "  <svg xmlns=\"http://www.w3.org/2000/svg\" height=\"24px\" viewBox=\"0 -960 960 960\">\n",
              "    <path d=\"M120-120v-720h720v720H120Zm60-500h600v-160H180v160Zm220 220h160v-160H400v160Zm0 220h160v-160H400v160ZM180-400h160v-160H180v160Zm440 0h160v-160H620v160ZM180-180h160v-160H180v160Zm440 0h160v-160H620v160Z\"/>\n",
              "  </svg>\n",
              "    </button>\n",
              "\n",
              "  <style>\n",
              "    .colab-df-container {\n",
              "      display:flex;\n",
              "      gap: 12px;\n",
              "    }\n",
              "\n",
              "    .colab-df-convert {\n",
              "      background-color: #E8F0FE;\n",
              "      border: none;\n",
              "      border-radius: 50%;\n",
              "      cursor: pointer;\n",
              "      display: none;\n",
              "      fill: #1967D2;\n",
              "      height: 32px;\n",
              "      padding: 0 0 0 0;\n",
              "      width: 32px;\n",
              "    }\n",
              "\n",
              "    .colab-df-convert:hover {\n",
              "      background-color: #E2EBFA;\n",
              "      box-shadow: 0px 1px 2px rgba(60, 64, 67, 0.3), 0px 1px 3px 1px rgba(60, 64, 67, 0.15);\n",
              "      fill: #174EA6;\n",
              "    }\n",
              "\n",
              "    .colab-df-buttons div {\n",
              "      margin-bottom: 4px;\n",
              "    }\n",
              "\n",
              "    [theme=dark] .colab-df-convert {\n",
              "      background-color: #3B4455;\n",
              "      fill: #D2E3FC;\n",
              "    }\n",
              "\n",
              "    [theme=dark] .colab-df-convert:hover {\n",
              "      background-color: #434B5C;\n",
              "      box-shadow: 0px 1px 3px 1px rgba(0, 0, 0, 0.15);\n",
              "      filter: drop-shadow(0px 1px 2px rgba(0, 0, 0, 0.3));\n",
              "      fill: #FFFFFF;\n",
              "    }\n",
              "  </style>\n",
              "\n",
              "    <script>\n",
              "      const buttonEl =\n",
              "        document.querySelector('#df-0a0a65ec-1cbb-4ec3-a844-ff5801992b34 button.colab-df-convert');\n",
              "      buttonEl.style.display =\n",
              "        google.colab.kernel.accessAllowed ? 'block' : 'none';\n",
              "\n",
              "      async function convertToInteractive(key) {\n",
              "        const element = document.querySelector('#df-0a0a65ec-1cbb-4ec3-a844-ff5801992b34');\n",
              "        const dataTable =\n",
              "          await google.colab.kernel.invokeFunction('convertToInteractive',\n",
              "                                                    [key], {});\n",
              "        if (!dataTable) return;\n",
              "\n",
              "        const docLinkHtml = 'Like what you see? Visit the ' +\n",
              "          '<a target=\"_blank\" href=https://colab.research.google.com/notebooks/data_table.ipynb>data table notebook</a>'\n",
              "          + ' to learn more about interactive tables.';\n",
              "        element.innerHTML = '';\n",
              "        dataTable['output_type'] = 'display_data';\n",
              "        await google.colab.output.renderOutput(dataTable, element);\n",
              "        const docLink = document.createElement('div');\n",
              "        docLink.innerHTML = docLinkHtml;\n",
              "        element.appendChild(docLink);\n",
              "      }\n",
              "    </script>\n",
              "  </div>\n",
              "\n",
              "\n",
              "<div id=\"df-ebb21f42-b2c8-40d1-8d92-53e5252dad76\">\n",
              "  <button class=\"colab-df-quickchart\" onclick=\"quickchart('df-ebb21f42-b2c8-40d1-8d92-53e5252dad76')\"\n",
              "            title=\"Suggest charts\"\n",
              "            style=\"display:none;\">\n",
              "\n",
              "<svg xmlns=\"http://www.w3.org/2000/svg\" height=\"24px\"viewBox=\"0 0 24 24\"\n",
              "     width=\"24px\">\n",
              "    <g>\n",
              "        <path d=\"M19 3H5c-1.1 0-2 .9-2 2v14c0 1.1.9 2 2 2h14c1.1 0 2-.9 2-2V5c0-1.1-.9-2-2-2zM9 17H7v-7h2v7zm4 0h-2V7h2v10zm4 0h-2v-4h2v4z\"/>\n",
              "    </g>\n",
              "</svg>\n",
              "  </button>\n",
              "\n",
              "<style>\n",
              "  .colab-df-quickchart {\n",
              "      --bg-color: #E8F0FE;\n",
              "      --fill-color: #1967D2;\n",
              "      --hover-bg-color: #E2EBFA;\n",
              "      --hover-fill-color: #174EA6;\n",
              "      --disabled-fill-color: #AAA;\n",
              "      --disabled-bg-color: #DDD;\n",
              "  }\n",
              "\n",
              "  [theme=dark] .colab-df-quickchart {\n",
              "      --bg-color: #3B4455;\n",
              "      --fill-color: #D2E3FC;\n",
              "      --hover-bg-color: #434B5C;\n",
              "      --hover-fill-color: #FFFFFF;\n",
              "      --disabled-bg-color: #3B4455;\n",
              "      --disabled-fill-color: #666;\n",
              "  }\n",
              "\n",
              "  .colab-df-quickchart {\n",
              "    background-color: var(--bg-color);\n",
              "    border: none;\n",
              "    border-radius: 50%;\n",
              "    cursor: pointer;\n",
              "    display: none;\n",
              "    fill: var(--fill-color);\n",
              "    height: 32px;\n",
              "    padding: 0;\n",
              "    width: 32px;\n",
              "  }\n",
              "\n",
              "  .colab-df-quickchart:hover {\n",
              "    background-color: var(--hover-bg-color);\n",
              "    box-shadow: 0 1px 2px rgba(60, 64, 67, 0.3), 0 1px 3px 1px rgba(60, 64, 67, 0.15);\n",
              "    fill: var(--button-hover-fill-color);\n",
              "  }\n",
              "\n",
              "  .colab-df-quickchart-complete:disabled,\n",
              "  .colab-df-quickchart-complete:disabled:hover {\n",
              "    background-color: var(--disabled-bg-color);\n",
              "    fill: var(--disabled-fill-color);\n",
              "    box-shadow: none;\n",
              "  }\n",
              "\n",
              "  .colab-df-spinner {\n",
              "    border: 2px solid var(--fill-color);\n",
              "    border-color: transparent;\n",
              "    border-bottom-color: var(--fill-color);\n",
              "    animation:\n",
              "      spin 1s steps(1) infinite;\n",
              "  }\n",
              "\n",
              "  @keyframes spin {\n",
              "    0% {\n",
              "      border-color: transparent;\n",
              "      border-bottom-color: var(--fill-color);\n",
              "      border-left-color: var(--fill-color);\n",
              "    }\n",
              "    20% {\n",
              "      border-color: transparent;\n",
              "      border-left-color: var(--fill-color);\n",
              "      border-top-color: var(--fill-color);\n",
              "    }\n",
              "    30% {\n",
              "      border-color: transparent;\n",
              "      border-left-color: var(--fill-color);\n",
              "      border-top-color: var(--fill-color);\n",
              "      border-right-color: var(--fill-color);\n",
              "    }\n",
              "    40% {\n",
              "      border-color: transparent;\n",
              "      border-right-color: var(--fill-color);\n",
              "      border-top-color: var(--fill-color);\n",
              "    }\n",
              "    60% {\n",
              "      border-color: transparent;\n",
              "      border-right-color: var(--fill-color);\n",
              "    }\n",
              "    80% {\n",
              "      border-color: transparent;\n",
              "      border-right-color: var(--fill-color);\n",
              "      border-bottom-color: var(--fill-color);\n",
              "    }\n",
              "    90% {\n",
              "      border-color: transparent;\n",
              "      border-bottom-color: var(--fill-color);\n",
              "    }\n",
              "  }\n",
              "</style>\n",
              "\n",
              "  <script>\n",
              "    async function quickchart(key) {\n",
              "      const quickchartButtonEl =\n",
              "        document.querySelector('#' + key + ' button');\n",
              "      quickchartButtonEl.disabled = true;  // To prevent multiple clicks.\n",
              "      quickchartButtonEl.classList.add('colab-df-spinner');\n",
              "      try {\n",
              "        const charts = await google.colab.kernel.invokeFunction(\n",
              "            'suggestCharts', [key], {});\n",
              "      } catch (error) {\n",
              "        console.error('Error during call to suggestCharts:', error);\n",
              "      }\n",
              "      quickchartButtonEl.classList.remove('colab-df-spinner');\n",
              "      quickchartButtonEl.classList.add('colab-df-quickchart-complete');\n",
              "    }\n",
              "    (() => {\n",
              "      let quickchartButtonEl =\n",
              "        document.querySelector('#df-ebb21f42-b2c8-40d1-8d92-53e5252dad76 button');\n",
              "      quickchartButtonEl.style.display =\n",
              "        google.colab.kernel.accessAllowed ? 'block' : 'none';\n",
              "    })();\n",
              "  </script>\n",
              "</div>\n",
              "\n",
              "    </div>\n",
              "  </div>\n"
            ],
            "text/plain": [
              "     lesion_id      image_id  dx dx_type   age  sex  localization\n",
              "0  HAM_0000118  ISIC_0027419   2   histo  80.0    1            11\n",
              "1  HAM_0000118  ISIC_0025030   2   histo  80.0    1            11\n",
              "2  HAM_0002730  ISIC_0026769   2   histo  80.0    1            11\n",
              "3  HAM_0002730  ISIC_0025661   2   histo  80.0    1            11\n",
              "4  HAM_0001466  ISIC_0031633   2   histo  75.0    1             4"
            ]
          },
          "execution_count": 9,
          "metadata": {},
          "output_type": "execute_result"
        }
      ],
      "source": [
        "# Encode categorical variables\n",
        "le_sex = LabelEncoder()\n",
        "# 0 = Female, 1 = Male, 2= unknown\n",
        "df['sex'] = le_sex.fit_transform(df['sex'])\n",
        "\n",
        "le_dx = LabelEncoder()\n",
        "# Encodes the 7 diagnosis classes\n",
        "#0-akiec, 1-bcc, 2-bkl, 3-df, 4-mel, 5-nv, 6-vasc\n",
        "df['dx'] = le_dx.fit_transform(df['dx'])\n",
        "\n",
        "le_localization = LabelEncoder()\n",
        "# Encodes the 15 localization classes\n",
        "# 0-abdomen, 1- acral, 2-back, 3-chest, 4- ear, 5-face, 6-foot, 7-genital, 8-hand, 9-lower extremity, 10-neck, 11-scalp, 12-trunk, 13-unknown, 14-upper extremity\n",
        "df['localization'] = le_localization.fit_transform(df['localization'])\n",
        "\n",
        "#check sample data\n",
        "df.head()"
      ]
    },
    {
      "cell_type": "markdown",
      "metadata": {
        "id": "fWmo8HLdHYL-"
      },
      "source": [
        "### Step 6: Exploratory Data Analysis (EDA)"
      ]
    },
    {
      "cell_type": "code",
      "execution_count": null,
      "metadata": {
        "colab": {
          "base_uri": "https://localhost:8080/",
          "height": 489
        },
        "id": "g24pmjh1Jszt",
        "outputId": "9a60d815-2cdb-4d78-8cb2-4c6769b9553d"
      },
      "outputs": [
        {
          "data": {
            "image/png": "[encoded data removed]",
            "text/plain": [
              "<Figure size 1000x500 with 1 Axes>"
            ]
          },
          "metadata": {},
          "output_type": "display_data"
        }
      ],
      "source": [
        "# Plot class distribution\n",
        "plt.figure(figsize=(10, 5))\n",
        "sns.countplot(x='dx', hue='dx', data=df, palette='coolwarm')\n",
        "plt.xticks(rotation=45)\n",
        "plt.title(\"Distribution of Lesion Types\")\n",
        "\n",
        "# Create custom legend labels\n",
        "legend_labels = {\n",
        "    0: 'akiec',\n",
        "    1: 'bcc',\n",
        "    2: 'bkl',\n",
        "    3: 'df',\n",
        "    4: 'mel',\n",
        "    5: 'nv',\n",
        "    6: 'vasc'\n",
        "}\n",
        "\n",
        "# Get the current handles and labels from the plot\n",
        "handles, labels = plt.gca().get_legend_handles_labels()\n",
        "\n",
        "# Create a new list of legend labels using the custom mapping\n",
        "new_labels = [legend_labels[int(label)] for label in labels]\n",
        "\n",
        "# Create the legend with the updated labels\n",
        "plt.legend(handles, new_labels, title='Lesion Type')\n",
        "\n",
        "plt.show()\n"
      ]
    },
    {
      "cell_type": "markdown",
      "metadata": {
        "id": "HsyAYUPXTURJ"
      },
      "source": [
        "#### Type of lesions\n",
        "\n",
        "- akiec (Actinic keratoses and intraepithelial carcinoma)\n",
        "- bcc (Basal cell carcinoma)\n",
        "- bkl (Benign keratosis-like lesions)\n",
        "- df (Dermatofibroma)\n",
        "- mel (Melanoma)\n",
        "- nv (Melanocytic nevi)\n",
        "- vasc (Vascular lesions)\n",
        "\n",
        "The plot above suggests that melanocytic nevi are the most common type of skin lesion in the dataset."
      ]
    },
    {
      "cell_type": "code",
      "execution_count": null,
      "metadata": {
        "colab": {
          "base_uri": "https://localhost:8080/",
          "height": 410
        },
        "id": "_KeCA5-IHbFr",
        "outputId": "b9cf2354-9d0f-4594-c42c-8dd6e55f423e"
      },
      "outputs": [
        {
          "data": {
            "image/png": "[encoded data removed]",
            "text/plain": [
              "<Figure size 800x400 with 1 Axes>"
            ]
          },
          "metadata": {},
          "output_type": "display_data"
        }
      ],
      "source": [
        "# Age distribution\n",
        "plt.figure(figsize=(8, 4))\n",
        "sns.histplot(df['age'], bins=30, kde=True)\n",
        "plt.title(\"Age Distribution of Patients\")\n",
        "plt.xlabel(\"Age\")\n",
        "plt.show()"
      ]
    },
    {
      "cell_type": "markdown",
      "metadata": {
        "id": "XeedNZvzWpc3"
      },
      "source": [
        "- The plot represents the age distribution of patients in the dataset.\n",
        "- It shows that most patients are between 30 and 60 years old, with a peak around the 40s.\n",
        "- The distribution indicates a higher frequency of older patients compared to younger ones."
      ]
    },
    {
      "cell_type": "code",
      "execution_count": null,
      "metadata": {
        "colab": {
          "base_uri": "https://localhost:8080/",
          "height": 410
        },
        "id": "lIAupo8JHdbZ",
        "outputId": "c7b29723-3f1e-4e91-97fe-99e61cf29c98"
      },
      "outputs": [
        {
          "data": {
            "image/png": "[encoded data removed]",
            "text/plain": [
              "<Figure size 600x400 with 1 Axes>"
            ]
          },
          "metadata": {},
          "output_type": "display_data"
        }
      ],
      "source": [
        "# Sex distribution\n",
        "plt.figure(figsize=(6, 4))\n",
        "sns.countplot(x='sex', hue='sex', data=df, palette='viridis')\n",
        "plt.xticks(ticks=[0, 1, 2], labels=['Female', 'Male', 'unknown'])\n",
        "plt.title(\"Gender Distribution\")\n",
        "plt.show()"
      ]
    },
    {
      "cell_type": "markdown",
      "metadata": {
        "id": "P6UvzCS2XKsW"
      },
      "source": [
        "- The plot indicates that Males are most affected with skin cancer as compared to females and unknown"
      ]
    },
    {
      "cell_type": "markdown",
      "metadata": {
        "id": "I5vZSoHZISiY"
      },
      "source": [
        "### Step 7: Statistical Tests"
      ]
    },
    {
      "cell_type": "markdown",
      "metadata": {
        "id": "HdvM173PXzjN"
      },
      "source": [
        "**t-test:**\n",
        "\n",
        "A t-test is a statistical test used to compare the means of two groups to determine if they are significantly different from each other. It is commonly used in hypothesis testing."
      ]
    },
    {
      "cell_type": "markdown",
      "metadata": {
        "id": "4SAEXmMyf0IB"
      },
      "source": [
        "**Benign Lesions**\n",
        "The benign category includes non-cancerous (harmless) lesions:\n",
        "bkl (Benign keratosis-like lesions)\n",
        "nv (Melanocytic nevi - common moles)\n",
        "These lesions are generally not life-threatening and do not spread aggressively.\n",
        "\n",
        "**Malignant Lesions**\n",
        "The malignant category includes cancerous (harmful) lesions:\n",
        "mel (Melanoma - the deadliest form of skin cancer)\n",
        "bcc (Basal cell carcinoma - a slow-growing skin cancer)\n",
        "akiec (Actinic keratoses and intraepithelial carcinoma - precancerous/cancerous growths)\n",
        "These lesions have the potential to invade nearby tissues and spread if not treated."
      ]
    },
    {
      "cell_type": "code",
      "execution_count": null,
      "metadata": {
        "id": "oKMbOgLdIPeI"
      },
      "outputs": [],
      "source": [
        "# Hypothesis: Is there a significant difference in age between benign & malignant lesions?\n",
        "benign = df[df['dx'].isin([le_dx.transform(['bkl'])[0], le_dx.transform(['nv'])[0]])]['age']\n",
        "malignant = df[df['dx'].isin([le_dx.transform(['mel'])[0], le_dx.transform(['bcc'])[0], le_dx.transform(['akiec'])[0]])]['age']"
      ]
    },
    {
      "cell_type": "code",
      "execution_count": null,
      "metadata": {
        "colab": {
          "base_uri": "https://localhost:8080/"
        },
        "id": "Y1V7hVC4JDwH",
        "outputId": "d9b1e69a-b9b4-4612-c4b3-88712e5b6ec5"
      },
      "outputs": [
        {
          "name": "stdout",
          "output_type": "stream",
          "text": [
            "T-test result: t-statistic = -37.9242, p-value = 0.0000\n",
            "\n",
            " Statistically significant difference in age between benign and malignant lesions.\n"
          ]
        }
      ],
      "source": [
        "# Perform an independent t-test\n",
        "t_stat, p_value = stats.ttest_ind(benign, malignant, equal_var=False)\n",
        "print(f\"T-test result: t-statistic = {t_stat:.4f}, p-value = {p_value:.4f}\")\n",
        "if p_value < 0.05:\n",
        "    print(\"\\n Statistically significant difference in age between benign and malignant lesions.\")\n",
        "else:\n",
        "    print(\"\\n No significant difference in age between benign and malignant lesions.\")"
      ]
    },
    {
      "cell_type": "markdown",
      "metadata": {
        "id": "V5EBaBdoJPV_"
      },
      "source": [
        "### Step 8: Hypothesis Evaluation"
      ]
    },
    {
      "cell_type": "markdown",
      "metadata": {
        "id": "uTfDFF67XqJv"
      },
      "source": [
        "**Chi-Square Test :**\n",
        "\n",
        "The Chi-Square test is a statistical test used to determine if there is a significant association between categorical variables. In this dataset, it can be applied to check if factors like lesion type and patient gender are independent or correlated."
      ]
    },
    {
      "cell_type": "code",
      "execution_count": null,
      "metadata": {
        "colab": {
          "base_uri": "https://localhost:8080/"
        },
        "id": "tntZix_aJMaQ",
        "outputId": "fa760219-c4e4-4d97-81b0-68db58a3a5e1"
      },
      "outputs": [
        {
          "name": "stdout",
          "output_type": "stream",
          "text": [
            "Chi-Square Test: chi2 = 106.9038, p-value = 0.0000\n",
            "\n",
            " Statistically significant association between gender and lesion type.\n"
          ]
        }
      ],
      "source": [
        "# Chi-Square test for gender distribution across lesion types\n",
        "contingency_table = pd.crosstab(df['sex'], df['dx'])\n",
        "chi2_stat, p, dof, expected = stats.chi2_contingency(contingency_table)\n",
        "print(f\"Chi-Square Test: chi2 = {chi2_stat:.4f}, p-value = {p:.4f}\")\n",
        "if p < 0.05:\n",
        "    print(\"\\n Statistically significant association between gender and lesion type.\")\n",
        "else:\n",
        "    print(\"\\n No significant association between gender and lesion type.\")"
      ]
    },
    {
      "cell_type": "markdown",
      "metadata": {
        "id": "yEh0Y5wTlIE4"
      },
      "source": [
        "### Step 9: Observations & Summary"
      ]
    },
    {
      "cell_type": "markdown",
      "metadata": {
        "id": "RCEhO9WPkgUe"
      },
      "source": [
        "**Key Findings**\n",
        "\n",
        "**Statistical Tests & Hypothesis Evaluation**\n",
        "\n",
        "t-test was conducted to compare means between different groups.\n",
        "\n",
        "Chi-Square test for gender distribution across lesion types.\n",
        "\n",
        "**Potential Challenges**\n",
        "\n",
        "Class Imbalance:\n",
        "\n",
        "Some lesion types (e.g., Melanocytic nevi) dominate, while others are underrepresented.\n",
        "\n",
        "This could bias the model toward predicting the most common class.\n",
        "\n",
        "**Data Bias:**\n",
        "\n",
        "Higher representation of certain age groups may lead to a model that performs better on middle-aged individuals but poorly on younger or older patients.\n",
        "\n",
        "**Feature Engineering Needed:**\n",
        "\n",
        "Image-based features may need augmentation techniques to balance classes."
      ]
    },
    {
      "cell_type": "markdown",
      "metadata": {
        "id": "M6MQYkJWWFRx"
      },
      "source": [
        "1. Load & Preprocess the Data\n",
        "Load HAM10000_metadata.csv and image files.\n",
        "\n",
        "Join metadata with image data.\n",
        "\n",
        "Encode categorical labels (e.g., lesion types).\n",
        "\n",
        "Resize images (e.g., 64x64 or 128x128) and normalize pixel values (divide by 255)."
      ]
    },
    {
      "cell_type": "code",
      "execution_count": null,
      "metadata": {
        "colab": {
          "base_uri": "https://localhost:8080/"
        },
        "id": "rLn0aXhPWJXe",
        "outputId": "d5fcded3-10db-4466-e0ca-022ae973f846"
      },
      "outputs": [
        {
          "name": "stdout",
          "output_type": "stream",
          "text": [
            " Loading and processing images...\n"
          ]
        },
        {
          "name": "stderr",
          "output_type": "stream",
          "text": [
            "  7%|▋         | 735/10015 [12:16<2:19:29,  1.11it/s]"
          ]
        }
      ],
      "source": [
        "import os\n",
        "import cv2\n",
        "from tqdm import tqdm  # for progress bar\n",
        "\n",
        "# Define image folders\n",
        "images_path_1 = os.path.join(DATA_PATH, \"HAM10000_images_part_1/\")\n",
        "images_path_2 = os.path.join(DATA_PATH, \"HAM10000_images_part_2/\")\n",
        "\n",
        "# Initialize lists\n",
        "image_data = []\n",
        "labels = []\n",
        "missing_images = []\n",
        "\n",
        "print(\" Loading and processing images...\")\n",
        "\n",
        "for idx, row in tqdm(df.iterrows(), total=len(df)):\n",
        "    filename = row['image_id'] + \".jpg\"\n",
        "    label = row['dx']\n",
        "\n",
        "    # Build image paths\n",
        "    path1 = os.path.join(images_path_1, filename)\n",
        "    path2 = os.path.join(images_path_2, filename)\n",
        "\n",
        "    # Load image from available path\n",
        "    img = None\n",
        "    if os.path.exists(path1):\n",
        "        img = cv2.imread(path1)\n",
        "    elif os.path.exists(path2):\n",
        "        img = cv2.imread(path2)\n",
        "\n",
        "    # Skip and log if not loaded properly\n",
        "    if img is None or img.size == 0:\n",
        "        missing_images.append(filename)\n",
        "        continue\n",
        "\n",
        "    # Preprocess: resize and convert color\n",
        "    img = cv2.resize(img, (64, 64))\n",
        "    img = cv2.cvtColor(img, cv2.COLOR_BGR2RGB)\n",
        "\n",
        "    image_data.append(img)\n",
        "    labels.append(label)\n",
        "\n",
        "print(f\"\\n Total images loaded: {len(image_data)}\")\n",
        "print(f\"Missing or unreadable images: {len(missing_images)}\")\n",
        "\n",
        "# Optional: save missing list to file\n",
        "# with open(\"missing_images.txt\", \"w\") as f:\n",
        "#     f.write(\"\\n\".join(missing_images))\n"
      ]
    },
    {
      "cell_type": "markdown",
      "metadata": {
        "id": "XqFFBEBTjGJx"
      },
      "source": [
        "Convert Data to NumPy Arrays"
      ]
    },
    {
      "cell_type": "code",
      "execution_count": null,
      "metadata": {
        "id": "2WnvIzIri04a"
      },
      "outputs": [],
      "source": [
        "import numpy as np\n",
        "\n",
        "# Convert to NumPy arrays\n",
        "X = np.array(image_data)\n",
        "y = np.array(labels)\n",
        "\n",
        "print(\"Data shapes:\")\n",
        "print(\"Images (X):\", X.shape)\n",
        "print(\"Labels (y):\", y.shape)\n"
      ]
    },
    {
      "cell_type": "markdown",
      "metadata": {
        "id": "bMQl-8r4jJfF"
      },
      "source": [
        "Encode Labels (String → Integer → One-hot)"
      ]
    },
    {
      "cell_type": "code",
      "execution_count": null,
      "metadata": {
        "id": "q3QpjmYti3eb"
      },
      "outputs": [],
      "source": [
        "from sklearn.preprocessing import LabelEncoder\n",
        "from tensorflow.keras.utils import to_categorical\n",
        "\n",
        "# Encode string labels into integers\n",
        "label_encoder = LabelEncoder()\n",
        "y_encoded = label_encoder.fit_transform(y)\n",
        "\n",
        "# One-hot encode the integer labels\n",
        "y_onehot = to_categorical(y_encoded)\n",
        "\n",
        "print(\"Unique classes:\", label_encoder.classes_)\n",
        "print(\"Encoded labels shape:\", y_onehot.shape)\n"
      ]
    },
    {
      "cell_type": "code",
      "execution_count": null,
      "metadata": {
        "id": "o4ug0xl-lxhB"
      },
      "outputs": [],
      "source": [
        "from sklearn.preprocessing import LabelEncoder\n",
        "from tensorflow.keras.utils import to_categorical\n",
        "\n",
        "# Use original string labels from 'dx'\n",
        "label_encoder = LabelEncoder()\n",
        "y_encoded = label_encoder.fit_transform(labels)  # labels should be string list from earlier\n",
        "y_onehot = to_categorical(y_encoded)\n",
        "\n",
        "# Get class names as string list\n",
        "class_names = label_encoder.classes_\n",
        "\n",
        "print(\"Classes:\", class_names)\n"
      ]
    },
    {
      "cell_type": "markdown",
      "metadata": {
        "id": "ii5fXj06WMfh"
      },
      "source": [
        "Train-Test Split"
      ]
    },
    {
      "cell_type": "code",
      "execution_count": null,
      "metadata": {
        "id": "Ksx0Df7QWzI6"
      },
      "outputs": [],
      "source": [
        "from sklearn.model_selection import train_test_split\n",
        "\n",
        "X_train, X_test, y_train, y_test = train_test_split(\n",
        "    X, y_onehot,\n",
        "    test_size=0.2,\n",
        "    random_state=42,\n",
        "    stratify=y_onehot\n",
        ")\n",
        "\n",
        "print(\"Train shape:\", X_train.shape)\n",
        "print(\"Test shape:\", X_test.shape)\n"
      ]
    },
    {
      "cell_type": "markdown",
      "metadata": {
        "id": "2QOmO-qFWczw"
      },
      "source": [
        "Build a CNN Model"
      ]
    },
    {
      "cell_type": "code",
      "execution_count": null,
      "metadata": {
        "id": "i6WUnChJWdz1"
      },
      "outputs": [],
      "source": [
        "import tensorflow as tf\n",
        "from tensorflow.keras.models import Sequential\n",
        "from tensorflow.keras.layers import Conv2D, MaxPooling2D, Flatten, Dense, Dropout\n",
        "\n",
        "# Normalize image pixels\n",
        "X_train = X_train / 255.0\n",
        "X_test = X_test / 255.0\n",
        "\n",
        "# Build CNN\n",
        "model = Sequential([\n",
        "    Conv2D(32, (3, 3), activation='relu', input_shape=(64, 64, 3)),\n",
        "    MaxPooling2D(2, 2),\n",
        "\n",
        "    Conv2D(64, (3, 3), activation='relu'),\n",
        "    MaxPooling2D(2, 2),\n",
        "\n",
        "    Flatten(),\n",
        "    Dense(128, activation='relu'),\n",
        "    Dropout(0.5),\n",
        "    Dense(y_train.shape[1], activation='softmax')  # 7 output classes\n",
        "])\n",
        "\n",
        "# Compile model\n",
        "model.compile(optimizer='adam', loss='categorical_crossentropy', metrics=['accuracy'])\n",
        "model.summary()\n",
        "\n",
        "# Train\n",
        "history = model.fit(X_train, y_train, epochs=10, batch_size=32, validation_data=(X_test, y_test))\n",
        "\n"
      ]
    },
    {
      "cell_type": "markdown",
      "metadata": {
        "id": "XmmzNZswXlaw"
      },
      "source": [
        "Plot Training & Validation Accuracy and Loss"
      ]
    },
    {
      "cell_type": "code",
      "execution_count": null,
      "metadata": {
        "id": "Cff0rSDDjsch"
      },
      "outputs": [],
      "source": [
        "import matplotlib.pyplot as plt\n",
        "\n",
        "# Plot accuracy\n",
        "plt.figure(figsize=(12, 4))\n",
        "\n",
        "plt.subplot(1, 2, 1)\n",
        "plt.plot(history.history['accuracy'], label='Train Accuracy', marker='o')\n",
        "plt.plot(history.history['val_accuracy'], label='Val Accuracy', marker='x')\n",
        "plt.title('Model Accuracy')\n",
        "plt.xlabel('Epoch')\n",
        "plt.ylabel('Accuracy')\n",
        "plt.legend()\n",
        "\n",
        "# Plot loss\n",
        "plt.subplot(1, 2, 2)\n",
        "plt.plot(history.history['loss'], label='Train Loss', marker='o')\n",
        "plt.plot(history.history['val_loss'], label='Val Loss', marker='x')\n",
        "plt.title('Model Loss')\n",
        "plt.xlabel('Epoch')\n",
        "plt.ylabel('Loss')\n",
        "plt.legend()\n",
        "\n",
        "plt.tight_layout()\n",
        "plt.show()\n"
      ]
    },
    {
      "cell_type": "markdown",
      "metadata": {
        "id": "h2kygL7nXo33"
      },
      "source": [
        "Evaluate with Confusion Matrix"
      ]
    },
    {
      "cell_type": "code",
      "execution_count": null,
      "metadata": {
        "id": "rtYaQI5djw0d"
      },
      "outputs": [],
      "source": [
        "from sklearn.metrics import confusion_matrix, classification_report\n",
        "import seaborn as sns\n",
        "\n",
        "# Predict test set\n",
        "y_pred_probs = model.predict(X_test)\n",
        "y_pred = np.argmax(y_pred_probs, axis=1)\n",
        "y_true = np.argmax(y_test, axis=1)\n",
        "\n",
        "# Confusion matrix\n",
        "cm = confusion_matrix(y_true, y_pred)\n",
        "labels = label_encoder.classes_\n",
        "\n",
        "plt.figure(figsize=(8, 6))\n",
        "sns.heatmap(cm, annot=True, fmt='d', cmap='Blues', xticklabels=labels, yticklabels=labels)\n",
        "plt.xlabel('Predicted')\n",
        "plt.ylabel('Actual')\n",
        "plt.title('Confusion Matrix')\n",
        "plt.show()\n",
        "# Convert label_encoder.classes_ to string list\n",
        "class_names = [str(c) for c in label_encoder.classes_]\n",
        "\n",
        "# Print classification report with zero_division to suppress warnings\n",
        "print(\"Classification Report:\\n\")\n",
        "print(classification_report(y_true, y_pred, target_names=class_names, zero_division=0))\n",
        "\n",
        "\n"
      ]
    },
    {
      "cell_type": "markdown",
      "metadata": {
        "id": "82GnE9vtXsBy"
      },
      "source": [
        "Save the Trained Model"
      ]
    },
    {
      "cell_type": "code",
      "execution_count": null,
      "metadata": {
        "id": "VU610fhFjzAN"
      },
      "outputs": [],
      "source": [
        "# Save model\n",
        "model.save(\"skin_cancer_classifier_model.h5\")\n",
        "print(\"Model saved as skin_cancer_classifier_model.h5\")\n"
      ]
    },
    {
      "cell_type": "markdown",
      "metadata": {
        "id": "0jUzvVagX0HN"
      },
      "source": [
        "Extend the Metadata with Synthetic Columns"
      ]
    },
    {
      "cell_type": "code",
      "execution_count": null,
      "metadata": {
        "id": "R1Y8SCv1q5UJ"
      },
      "outputs": [],
      "source": [
        "import pandas as pd\n",
        "import random\n",
        "\n",
        "# Load your metadata if you haven't already\n",
        "metadata_path = os.path.join(DATA_PATH, \"HAM10000_metadata.csv\")\n",
        "df = pd.read_csv(metadata_path)\n",
        "\n",
        "# Optional: Reset index if needed\n",
        "df = df.reset_index(drop=True)\n",
        "\n",
        "# Define synthetic values\n",
        "professions = ['farmer', 'teacher', 'construction worker', 'office worker', 'student', 'factory worker', 'driver', 'retired']\n",
        "\n",
        "sun_exposure_map = {\n",
        "    'farmer': 'yes',\n",
        "    'construction worker': 'yes',\n",
        "    'driver': 'yes',\n",
        "    'teacher': 'no',\n",
        "    'office worker': 'no',\n",
        "    'student': 'no',\n",
        "    'factory worker': 'no',\n",
        "    'retired': random.choice(['yes', 'no'])\n",
        "}\n",
        "\n",
        "chemical_exposure_map = {\n",
        "    'factory worker': 'yes',\n",
        "    'construction worker': 'yes',\n",
        "    'farmer': 'yes',\n",
        "    'teacher': 'no',\n",
        "    'office worker': 'no',\n",
        "    'student': 'no',\n",
        "    'driver': 'no',\n",
        "    'retired': random.choice(['yes', 'no'])\n",
        "}\n",
        "\n",
        "# Add synthetic columns\n",
        "df['profession'] = [random.choice(professions) for _ in range(len(df))]\n",
        "df['sun_exposed'] = df['profession'].apply(lambda x: sun_exposure_map.get(x, 'no'))\n",
        "df['chemical_exposed'] = df['profession'].apply(lambda x: chemical_exposure_map.get(x, 'no'))\n",
        "\n",
        "# Define binary cancer diagnosis\n",
        "cancer_types = ['mel', 'bcc', 'akiec']\n",
        "df['cancer_diagnosed'] = df['dx'].apply(lambda x: 'yes' if x in cancer_types else 'no')\n",
        "\n",
        "print(\" Metadata extended with synthetic features.\")\n",
        "df.head()\n"
      ]
    },
    {
      "cell_type": "code",
      "execution_count": null,
      "metadata": {
        "id": "75eSWTU7uG7u"
      },
      "outputs": [],
      "source": [
        "df.count()"
      ]
    },
    {
      "cell_type": "code",
      "execution_count": null,
      "metadata": {
        "id": "iZLmTY3lq8eI"
      },
      "outputs": [],
      "source": [
        "import seaborn as sns\n",
        "import matplotlib.pyplot as plt\n",
        "\n",
        "# Cancer count by profession\n",
        "plt.figure(figsize=(10, 5))\n",
        "sns.countplot(data=df, x='profession', hue='cancer_diagnosed')\n",
        "plt.title(\"Skin Cancer Diagnosis by Profession\")\n",
        "plt.xticks(rotation=45)\n",
        "plt.tight_layout()\n",
        "plt.show()\n"
      ]
    },
    {
      "cell_type": "code",
      "execution_count": null,
      "metadata": {
        "id": "pcJwt3orrAJN"
      },
      "outputs": [],
      "source": [
        "# Sunlight Exposure vs Cancer Diagnosis\n",
        "sunlight_ct = pd.crosstab(df['sun_exposed'], df['cancer_diagnosed'], normalize='index')\n",
        "print(\"Sunlight Exposure vs Cancer Diagnosis:\\n\", sunlight_ct)\n",
        "\n",
        "# Chemical Exposure vs Cancer Diagnosis\n",
        "chemical_ct = pd.crosstab(df['chemical_exposed'], df['cancer_diagnosed'], normalize='index')\n",
        "print(\"\\nChemical Exposure vs Cancer Diagnosis:\\n\", chemical_ct)\n"
      ]
    },
    {
      "cell_type": "code",
      "execution_count": null,
      "metadata": {
        "id": "GLt-A5yQrCDZ"
      },
      "outputs": [],
      "source": [
        "# Group by combinations\n",
        "heatmap_data = df.groupby(['sun_exposed', 'chemical_exposed', 'cancer_diagnosed']).size().unstack().fillna(0)\n",
        "\n",
        "# Plot heatmap\n",
        "plt.figure(figsize=(6, 4))\n",
        "sns.heatmap(heatmap_data, annot=True, fmt='g', cmap='YlOrRd')\n",
        "plt.title(\"Cancer Diagnosis by Sun & Chemical Exposure\")\n",
        "plt.ylabel('Sun / Chemical Exposure')\n",
        "plt.xlabel('Cancer Diagnosed')\n",
        "plt.show()"
      ]
    },
    {
      "cell_type": "code",
      "execution_count": null,
      "metadata": {
        "id": "mYCM3-Cuuqsc"
      },
      "outputs": [],
      "source": [
        "# Save the extended DataFrame to a CSV file\n",
        "csv_path = \"/content/extended_skin_cancer_data.csv\"\n",
        "df.to_csv(csv_path, index=False)\n",
        "print(f\" CSV saved to: {csv_path}\")\n"
      ]
    },
    {
      "cell_type": "code",
      "execution_count": null,
      "metadata": {
        "id": "bi8r5E8Kwcgi"
      },
      "outputs": [],
      "source": [
        "# Create age bins\n",
        "df['age_group'] = pd.cut(df['age'], bins=[0, 20, 40, 60, 80, 100],\n",
        "                         labels=['0–20', '21–40', '41–60', '61–80', '81+'])\n",
        "\n",
        "# Plot\n",
        "plt.figure(figsize=(8,5))\n",
        "sns.countplot(data=df, x='age_group', hue='cancer_diagnosed')\n",
        "plt.title('Cancer Diagnosis by Age Group')\n",
        "plt.xlabel('Age Group')\n",
        "plt.ylabel('Count')\n",
        "plt.tight_layout()\n",
        "plt.show()\n"
      ]
    },
    {
      "cell_type": "code",
      "execution_count": null,
      "metadata": {
        "id": "f-z-dc8cxWdI"
      },
      "outputs": [],
      "source": [
        "import pandas as pd\n",
        "import random\n",
        "import numpy as np\n",
        "\n",
        "# Reload the metadata (if needed)\n",
        "metadata_path = os.path.join(DATA_PATH, \"HAM10000_metadata.csv\")\n",
        "df = pd.read_csv(metadata_path)\n",
        "df = df.reset_index(drop=True)\n",
        "\n",
        "# Step 1: Assign random professions\n",
        "professions = ['farmer', 'teacher', 'construction worker', 'office worker', 'student', 'factory worker', 'driver', 'retired']\n",
        "df['profession'] = [random.choice(professions) for _ in range(len(df))]\n",
        "\n",
        "# Step 2: Define exposure logic\n",
        "sun_exposure_map = {\n",
        "    'farmer': 'yes',\n",
        "    'construction worker': 'yes',\n",
        "    'driver': 'yes',\n",
        "    'teacher': 'no',\n",
        "    'office worker': 'no',\n",
        "    'student': 'no',\n",
        "    'factory worker': 'no',\n",
        "    'retired': random.choice(['yes', 'no'])\n",
        "}\n",
        "chemical_exposure_map = {\n",
        "    'factory worker': 'yes',\n",
        "    'construction worker': 'yes',\n",
        "    'farmer': 'yes',\n",
        "    'teacher': 'no',\n",
        "    'office worker': 'no',\n",
        "    'student': 'no',\n",
        "    'driver': 'no',\n",
        "    'retired': random.choice(['yes', 'no'])\n",
        "}\n",
        "\n",
        "df['sun_exposed'] = df['profession'].apply(lambda x: sun_exposure_map.get(x, 'no'))\n",
        "df['chemical_exposed'] = df['profession'].apply(lambda x: chemical_exposure_map.get(x, 'no'))\n",
        "\n",
        "# Step 3: Use actual labels to identify cancer diagnosis\n",
        "cancer_types = ['mel', 'bcc', 'akiec']\n",
        "df['cancer_diagnosed'] = df['dx'].apply(lambda x: 'yes' if x in cancer_types else 'no')\n",
        "\n",
        "print(\"✅ Skew removed — cancer diagnosis now reflects real-world labels.\")\n",
        "df.head()\n"
      ]
    },
    {
      "cell_type": "code",
      "execution_count": null,
      "metadata": {
        "id": "4m11BXCFxZcr"
      },
      "outputs": [],
      "source": [
        "import seaborn as sns\n",
        "import matplotlib.pyplot as plt\n",
        "\n",
        "plt.figure(figsize=(10,5))\n",
        "sns.countplot(data=df, x='profession', hue='cancer_diagnosed', order=professions)\n",
        "plt.title(\"Cancer Diagnosis by Profession (Skewed Exposure Risk)\")\n",
        "plt.xticks(rotation=45)\n",
        "plt.tight_layout()\n",
        "plt.show()\n"
      ]
    },
    {
      "cell_type": "code",
      "execution_count": null,
      "metadata": {
        "id": "wWT4FoCjxeDa"
      },
      "outputs": [],
      "source": [
        "df.to_csv(\"/content/extended_skin_cancer_data_skewed.csv\", index=False)\n",
        "from google.colab import files\n",
        "files.download(\"/content/extended_skin_cancer_data_skewed.csv\")\n",
        "\n"
      ]
    },
    {
      "cell_type": "code",
      "execution_count": null,
      "metadata": {
        "id": "VCpldeS5xr2J"
      },
      "outputs": [],
      "source": [
        "fig, ax = plt.subplots(1, 2, figsize=(12, 4))\n",
        "\n",
        "sns.countplot(data=df, x='sun_exposed', hue='cancer_diagnosed', ax=ax[0])\n",
        "ax[0].set_title('🔆 Sunlight Exposure vs Cancer')\n",
        "\n",
        "sns.countplot(data=df, x='chemical_exposed', hue='cancer_diagnosed', ax=ax[1])\n",
        "ax[1].set_title('🧪 Chemical Exposure vs Cancer')\n",
        "\n",
        "plt.tight_layout()\n",
        "plt.show()\n"
      ]
    },
    {
      "cell_type": "code",
      "execution_count": null,
      "metadata": {
        "id": "WLuXwn_axyZS"
      },
      "outputs": [],
      "source": [
        "# Prepare numeric-encoded copy of df\n",
        "df_encoded = df.copy()\n",
        "\n",
        "# Encode binary and categorical features\n",
        "df_encoded['cancer_diagnosed'] = df_encoded['cancer_diagnosed'].map({'yes': 1, 'no': 0})\n",
        "df_encoded['sun_exposed'] = df_encoded['sun_exposed'].map({'yes': 1, 'no': 0})\n",
        "df_encoded['chemical_exposed'] = df_encoded['chemical_exposed'].map({'yes': 1, 'no': 0})\n",
        "df_encoded['gender'] = df_encoded['gender'].map({'male': 1, 'female': 0})\n",
        "df_encoded['retired'] = df_encoded['profession'].map(lambda x: 1 if x == 'retired' else 0)\n",
        "\n",
        "plt.figure(figsize=(8, 6))\n",
        "sns.heatmap(df_encoded[['age', 'gender', 'sun_exposed', 'chemical_exposed', 'cancer_diagnosed']].corr(),\n",
        "            annot=True, cmap='coolwarm')\n",
        "plt.title('📊 Correlation Heatmap')\n",
        "plt.tight_layout()\n",
        "plt.show()\n"
      ]
    },
    {
      "cell_type": "code",
      "execution_count": null,
      "metadata": {
        "id": "rbp-5Qd0x8V4"
      },
      "outputs": [],
      "source": [
        "df['exposure_combo'] = df['sun_exposed'] + ' / ' + df['chemical_exposed']\n",
        "\n",
        "exposure_ct = pd.crosstab(df['exposure_combo'], df['cancer_diagnosed'])\n",
        "sns.heatmap(exposure_ct, annot=True, cmap='YlOrRd', fmt='d')\n",
        "\n",
        "plt.title(' Cancer Diagnosis by Combined Exposure (Sun / Chemical)')\n",
        "plt.ylabel('Exposure Combo')\n",
        "plt.xlabel('Cancer Diagnosed')\n",
        "plt.tight_layout()\n",
        "plt.show()\n"
      ]
    }
  ],
  "metadata": {
    "accelerator": "GPU",
    "colab": {
      "gpuType": "T4",
      "provenance": []
    },
    "kernelspec": {
      "display_name": "Python 3",
      "name": "python3"
    },
    "language_info": {
      "codemirror_mode": {
        "name": "ipython",
        "version": 3
      },
      "file_extension": ".py",
      "mimetype": "text/x-python",
      "name": "python",
      "nbconvert_exporter": "python",
      "pygments_lexer": "ipython3",
      "version": "3.12.6"
    }
  },
  "nbformat": 4,
  "nbformat_minor": 0
}
