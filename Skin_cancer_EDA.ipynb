{
  "nbformat": 4,
  "nbformat_minor": 0,
  "metadata": {
    "colab": {
      "private_outputs": true,
      "provenance": []
    },
    "kernelspec": {
      "name": "python3",
      "display_name": "Python 3"
    },
    "language_info": {
      "name": "python"
    }
  },
  "cells": [
    {
      "cell_type": "markdown",
      "source": [
        "##GROUP 4\n",
        "\n",
        "- Khushbu Lad - 9027375\n",
        "\n",
        "- Neha Yadav - 8964515\n",
        "\n",
        "- Akshata Madhav - 8944328\n",
        "\n",
        "- Pradeepti Kasam - 8965985\n",
        "\n",
        "- Rohit Totlani - 8914803\n",
        "\n",
        "\n"
      ],
      "metadata": {
        "id": "fOkK6RIGl_Yo"
      }
    },
    {
      "cell_type": "markdown",
      "source": [
        "Dataset Link:\n",
        "\n",
        "[Skin Cancer MNIST: HAM10000](https://www.kaggle.com/datasets/kmader/skin-cancer-mnist-ham10000)"
      ],
      "metadata": {
        "id": "wpl3kyKymxHS"
      }
    },
    {
      "cell_type": "markdown",
      "source": [
        "### Step 1: Install Required Libraries"
      ],
      "metadata": {
        "id": "7uMJQdktFFH1"
      }
    },
    {
      "cell_type": "code",
      "execution_count": null,
      "metadata": {
        "id": "HBMDBVwODA9j"
      },
      "outputs": [],
      "source": [
        "!pip install pandas numpy matplotlib seaborn scipy scikit-learn"
      ]
    },
    {
      "cell_type": "markdown",
      "source": [
        "### Step 2: Import Libraries"
      ],
      "metadata": {
        "id": "pT8tT7eXFssj"
      }
    },
    {
      "cell_type": "code",
      "source": [
        "import pandas as pd\n",
        "import numpy as np\n",
        "import matplotlib.pyplot as plt\n",
        "import seaborn as sns\n",
        "from scipy import stats\n",
        "from sklearn.preprocessing import LabelEncoder"
      ],
      "metadata": {
        "id": "oerVIqzBEgSs"
      },
      "execution_count": null,
      "outputs": []
    },
    {
      "cell_type": "markdown",
      "source": [
        "### Step 3: Load the Dataset"
      ],
      "metadata": {
        "id": "4IxLivMiF0Ay"
      }
    },
    {
      "cell_type": "markdown",
      "source": [
        "**NOTE:**\n",
        "\n",
        "Set the correct file path for the dataset:\n",
        "\n",
        "data_path = \"/content/HAM10000_metadata.csv\"\n",
        "\n",
        "Ensure that the path is updated to match the actual location of the file on your system.\n"
      ],
      "metadata": {
        "id": "74cUMNN5nKBp"
      }
    },
    {
      "cell_type": "code",
      "source": [
        "#To load dataset\n",
        "data_path = \"/content/HAM10000_metadata.csv\"\n",
        "df = pd.read_csv(data_path)"
      ],
      "metadata": {
        "id": "HTI5nvLvFuE7"
      },
      "execution_count": null,
      "outputs": []
    },
    {
      "cell_type": "code",
      "source": [
        "#code to check sample data\n",
        "df.head()"
      ],
      "metadata": {
        "id": "N2wH9w0mGEDv"
      },
      "execution_count": null,
      "outputs": []
    },
    {
      "cell_type": "markdown",
      "source": [
        "### Step 4: Basic Exploration"
      ],
      "metadata": {
        "id": "sRpOWEByGPuE"
      }
    },
    {
      "cell_type": "code",
      "source": [
        "print(\"Number of rows: \", df.shape[0])\n",
        "print(\"Number of columns: \", df.shape[1])\n",
        "print(\"\\n\")\n",
        "print(\"Column Names:\", df.columns)\n",
        "print(\"\\n\")\n",
        "print(\"Missing Values:\\n\", df.isnull().sum())"
      ],
      "metadata": {
        "id": "eHhif5-AGMlB"
      },
      "execution_count": null,
      "outputs": []
    },
    {
      "cell_type": "markdown",
      "source": [
        "### Step 5: Data Preprocessing\n"
      ],
      "metadata": {
        "id": "d2YFNYJUGgN2"
      }
    },
    {
      "cell_type": "code",
      "source": [
        "# Fill missing age values with the median age\n",
        "df['age'] = df['age'].fillna(df['age'].median())"
      ],
      "metadata": {
        "id": "dHoMNgrUGkGh"
      },
      "execution_count": null,
      "outputs": []
    },
    {
      "cell_type": "code",
      "source": [
        "# Encode categorical variables\n",
        "le_sex = LabelEncoder()\n",
        "# 0 = Female, 1 = Male, 2= unknown\n",
        "df['sex'] = le_sex.fit_transform(df['sex'])\n",
        "\n",
        "le_dx = LabelEncoder()\n",
        "# Encodes the 7 diagnosis classes\n",
        "#0-akiec, 1-bcc, 2-bkl, 3-df, 4-mel, 5-nv, 6-vasc\n",
        "df['dx'] = le_dx.fit_transform(df['dx'])\n",
        "\n",
        "le_localization = LabelEncoder()\n",
        "# Encodes the 15 localization classes\n",
        "# 0-abdomen, 1- acral, 2-back, 3-chest, 4- ear, 5-face, 6-foot, 7-genital, 8-hand, 9-lower extremity, 10-neck, 11-scalp, 12-trunk, 13-unknown, 14-upper extremity\n",
        "df['localization'] = le_localization.fit_transform(df['localization'])\n",
        "\n",
        "#check sample data\n",
        "df.head()"
      ],
      "metadata": {
        "id": "YSL5LIcTGqrq"
      },
      "execution_count": null,
      "outputs": []
    },
    {
      "cell_type": "markdown",
      "source": [
        "### Step 6: Exploratory Data Analysis (EDA)"
      ],
      "metadata": {
        "id": "fWmo8HLdHYL-"
      }
    },
    {
      "cell_type": "code",
      "source": [
        "# Plot class distribution\n",
        "plt.figure(figsize=(10, 5))\n",
        "sns.countplot(x='dx', hue='dx', data=df, palette='coolwarm')\n",
        "plt.xticks(rotation=45)\n",
        "plt.title(\"Distribution of Lesion Types\")\n",
        "\n",
        "# Create custom legend labels\n",
        "legend_labels = {\n",
        "    0: 'akiec',\n",
        "    1: 'bcc',\n",
        "    2: 'bkl',\n",
        "    3: 'df',\n",
        "    4: 'mel',\n",
        "    5: 'nv',\n",
        "    6: 'vasc'\n",
        "}\n",
        "\n",
        "# Get the current handles and labels from the plot\n",
        "handles, labels = plt.gca().get_legend_handles_labels()\n",
        "\n",
        "# Create a new list of legend labels using the custom mapping\n",
        "new_labels = [legend_labels[int(label)] for label in labels]\n",
        "\n",
        "\n",
        "# Create the legend with the updated labels\n",
        "plt.legend(handles, new_labels, title='Lesion Type')\n",
        "\n",
        "plt.show()\n"
      ],
      "metadata": {
        "id": "g24pmjh1Jszt"
      },
      "execution_count": null,
      "outputs": []
    },
    {
      "cell_type": "markdown",
      "source": [
        "#### Type of lesions\n",
        "\n",
        "- akiec (Actinic keratoses and intraepithelial carcinoma)\n",
        "- bcc (Basal cell carcinoma)\n",
        "- bkl (Benign keratosis-like lesions)\n",
        "- df (Dermatofibroma)\n",
        "- mel (Melanoma)\n",
        "- nv (Melanocytic nevi)\n",
        "- vasc (Vascular lesions)\n",
        "\n",
        "The plot above suggests that melanocytic nevi are the most common type of skin lesion in the dataset."
      ],
      "metadata": {
        "id": "HsyAYUPXTURJ"
      }
    },
    {
      "cell_type": "code",
      "source": [
        "# Age distribution\n",
        "plt.figure(figsize=(8, 4))\n",
        "sns.histplot(df['age'], bins=30, kde=True)\n",
        "plt.title(\"Age Distribution of Patients\")\n",
        "plt.xlabel(\"Age\")\n",
        "plt.show()"
      ],
      "metadata": {
        "id": "_KeCA5-IHbFr"
      },
      "execution_count": null,
      "outputs": []
    },
    {
      "cell_type": "markdown",
      "source": [
        "- The plot represents the age distribution of patients in the dataset.\n",
        "- It shows that most patients are between 30 and 60 years old, with a peak around the 40s.\n",
        "- The distribution indicates a higher frequency of older patients compared to younger ones."
      ],
      "metadata": {
        "id": "XeedNZvzWpc3"
      }
    },
    {
      "cell_type": "code",
      "source": [
        "# Sex distribution\n",
        "plt.figure(figsize=(6, 4))\n",
        "sns.countplot(x='sex', hue='sex', data=df, palette='viridis')\n",
        "plt.xticks(ticks=[0, 1, 2], labels=['Female', 'Male', 'unknown'])\n",
        "plt.title(\"Gender Distribution\")\n",
        "plt.show()"
      ],
      "metadata": {
        "id": "lIAupo8JHdbZ"
      },
      "execution_count": null,
      "outputs": []
    },
    {
      "cell_type": "markdown",
      "source": [
        "- The plot indicates that Males are most affected with skin cancer as compared to females and unknown"
      ],
      "metadata": {
        "id": "P6UvzCS2XKsW"
      }
    },
    {
      "cell_type": "markdown",
      "source": [
        "### Step 7: Statistical Tests"
      ],
      "metadata": {
        "id": "I5vZSoHZISiY"
      }
    },
    {
      "cell_type": "markdown",
      "source": [
        "**t-test:**\n",
        "\n",
        "A t-test is a statistical test used to compare the means of two groups to determine if they are significantly different from each other. It is commonly used in hypothesis testing."
      ],
      "metadata": {
        "id": "HdvM173PXzjN"
      }
    },
    {
      "cell_type": "markdown",
      "source": [
        "**Benign Lesions**\n",
        "The benign category includes non-cancerous (harmless) lesions:\n",
        "bkl (Benign keratosis-like lesions)\n",
        "nv (Melanocytic nevi - common moles)\n",
        "These lesions are generally not life-threatening and do not spread aggressively.\n",
        "\n",
        "**Malignant Lesions**\n",
        "The malignant category includes cancerous (harmful) lesions:\n",
        "mel (Melanoma - the deadliest form of skin cancer)\n",
        "bcc (Basal cell carcinoma - a slow-growing skin cancer)\n",
        "akiec (Actinic keratoses and intraepithelial carcinoma - precancerous/cancerous growths)\n",
        "These lesions have the potential to invade nearby tissues and spread if not treated."
      ],
      "metadata": {
        "id": "4SAEXmMyf0IB"
      }
    },
    {
      "cell_type": "code",
      "source": [
        "# Hypothesis: Is there a significant difference in age between benign & malignant lesions?\n",
        "benign = df[df['dx'].isin([le_dx.transform(['bkl'])[0], le_dx.transform(['nv'])[0]])]['age']\n",
        "malignant = df[df['dx'].isin([le_dx.transform(['mel'])[0], le_dx.transform(['bcc'])[0], le_dx.transform(['akiec'])[0]])]['age']"
      ],
      "metadata": {
        "id": "oKMbOgLdIPeI"
      },
      "execution_count": null,
      "outputs": []
    },
    {
      "cell_type": "code",
      "source": [
        "# Perform an independent t-test\n",
        "t_stat, p_value = stats.ttest_ind(benign, malignant, equal_var=False)\n",
        "print(f\"T-test result: t-statistic = {t_stat:.4f}, p-value = {p_value:.4f}\")\n",
        "if p_value < 0.05:\n",
        "    print(\"\\n Statistically significant difference in age between benign and malignant lesions.\")\n",
        "else:\n",
        "    print(\"\\n No significant difference in age between benign and malignant lesions.\")"
      ],
      "metadata": {
        "id": "Y1V7hVC4JDwH"
      },
      "execution_count": null,
      "outputs": []
    },
    {
      "cell_type": "markdown",
      "source": [
        "### Step 8: Hypothesis Evaluation"
      ],
      "metadata": {
        "id": "V5EBaBdoJPV_"
      }
    },
    {
      "cell_type": "markdown",
      "source": [
        "**Chi-Square Test :**\n",
        "\n",
        "The Chi-Square test is a statistical test used to determine if there is a significant association between categorical variables. In this dataset, it can be applied to check if factors like lesion type and patient gender are independent or correlated."
      ],
      "metadata": {
        "id": "uTfDFF67XqJv"
      }
    },
    {
      "cell_type": "code",
      "source": [
        "# Chi-Square test for gender distribution across lesion types\n",
        "contingency_table = pd.crosstab(df['sex'], df['dx'])\n",
        "chi2_stat, p, dof, expected = stats.chi2_contingency(contingency_table)\n",
        "print(f\"Chi-Square Test: chi2 = {chi2_stat:.4f}, p-value = {p:.4f}\")\n",
        "if p < 0.05:\n",
        "    print(\"\\n Statistically significant association between gender and lesion type.\")\n",
        "else:\n",
        "    print(\"\\n No significant association between gender and lesion type.\")"
      ],
      "metadata": {
        "id": "tntZix_aJMaQ"
      },
      "execution_count": null,
      "outputs": []
    },
    {
      "cell_type": "markdown",
      "source": [
        "### Step 9: Observations & Summary"
      ],
      "metadata": {
        "id": "yEh0Y5wTlIE4"
      }
    },
    {
      "cell_type": "markdown",
      "source": [
        "**Key Findings**\n",
        "\n",
        "**Statistical Tests & Hypothesis Evaluation**\n",
        "\n",
        "t-test was conducted to compare means between different groups.\n",
        "\n",
        "Chi-Square test for gender distribution across lesion types.\n",
        "\n",
        "**Potential Challenges**\n",
        "\n",
        "Class Imbalance:\n",
        "\n",
        "Some lesion types (e.g., Melanocytic nevi) dominate, while others are underrepresented.\n",
        "\n",
        "This could bias the model toward predicting the most common class.\n",
        "\n",
        "**Data Bias:**\n",
        "\n",
        "Higher representation of certain age groups may lead to a model that performs better on middle-aged individuals but poorly on younger or older patients.\n",
        "\n",
        "**Feature Engineering Needed:**\n",
        "\n",
        "Image-based features may need augmentation techniques to balance classes."
      ],
      "metadata": {
        "id": "RCEhO9WPkgUe"
      }
    }
  ]
}