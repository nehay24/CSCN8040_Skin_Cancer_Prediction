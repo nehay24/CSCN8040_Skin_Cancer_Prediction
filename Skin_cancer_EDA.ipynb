{
  "nbformat": 4,
  "nbformat_minor": 0,
  "metadata": {
    "colab": {
      "private_outputs": true,
      "provenance": [],
      "include_colab_link": true
    },
    "kernelspec": {
      "name": "python3",
      "display_name": "Python 3"
    },
    "language_info": {
      "name": "python"
    }
  },
  "cells": [
    {
      "cell_type": "markdown",
      "metadata": {
        "id": "view-in-github",
        "colab_type": "text"
      },
      "source": [
        "<a href=\"https://colab.research.google.com/github/nehay24/CSCN8040_Skin_Cancer_Prediction/blob/main/Skin_cancer_EDA.ipynb\" target=\"_parent\"><img src=\"https://colab.research.google.com/assets/colab-badge.svg\" alt=\"Open In Colab\"/></a>"
      ]
    },
    {
      "cell_type": "markdown",
      "source": [
        "## Case Studies in Artificial Intelligence and Machine Learning\n",
        "### Unit 4: Interim Results\n",
        "\n",
        "### Group 4\n",
        "| Student Id     | Name                     |\n",
        "|----------------|--------------------------|\n",
        "| 9027375        | Khushbu Lad              |\n",
        "| 8944328        | Akshata Madhav           |\n",
        "| 8964515        | Neha Yadav               |\n",
        "| 8965985        | Pradeepti Kasam          |\n",
        "| 8914803        | Rohit Totlani            |\n",
        "\n",
        "Dataset URL:\n",
        "\n",
        "[Skin Cancer MNIST: HAM10000](https://www.kaggle.com/datasets/kmader/skin-cancer-mnist-ham10000)"
      ],
      "metadata": {
        "id": "fOkK6RIGl_Yo"
      }
    },
    {
      "cell_type": "markdown",
      "source": [
        "### Step 1: Install Required Libraries"
      ],
      "metadata": {
        "id": "7uMJQdktFFH1"
      }
    },
    {
      "cell_type": "code",
      "execution_count": null,
      "metadata": {
        "id": "HBMDBVwODA9j"
      },
      "outputs": [],
      "source": [
        "!pip install pandas numpy matplotlib seaborn scipy scikit-learn"
      ]
    },
    {
      "cell_type": "markdown",
      "source": [
        "### Step 2: Import Libraries"
      ],
      "metadata": {
        "id": "pT8tT7eXFssj"
      }
    },
    {
      "cell_type": "code",
      "source": [
        "import pandas as pd\n",
        "import numpy as np\n",
        "import matplotlib.pyplot as plt\n",
        "import seaborn as sns\n",
        "from scipy import stats\n",
        "from sklearn.preprocessing import LabelEncoder\n",
        "from google.colab import drive\n",
        "import sys\n",
        "import os"
      ],
      "metadata": {
        "id": "oerVIqzBEgSs"
      },
      "execution_count": null,
      "outputs": []
    },
    {
      "cell_type": "markdown",
      "source": [
        "### Step 3: Load the Dataset"
      ],
      "metadata": {
        "id": "4IxLivMiF0Ay"
      }
    },
    {
      "cell_type": "markdown",
      "source": [
        "**NOTE:**\n",
        "\n",
        "- Our dataset is large containing images of 2.9GB.\n",
        "- The file is configured as it can run in local as well as in google collab.\n",
        "- if you are setting up file for google drive, no configuration is requred.\n",
        "- if this project needs to setup in local device, download the dataset from link in header and extract zip in \"dataset\" folder in project directory\n",
        "- Set the correct file path for the dataset:\n",
        "- data_path = \"/content/HAM10000_metadata.csv\"\n",
        "- Ensure that the path is updated to match the actual location of the file on your system.\n"
      ],
      "metadata": {
        "id": "74cUMNN5nKBp"
      }
    },
    {
      "cell_type": "code",
      "source": [
        "# Detect Google Colab\n",
        "IN_COLAB = False\n",
        "try:\n",
        "    import google.colab\n",
        "    IN_COLAB = True\n",
        "except ModuleNotFoundError:\n",
        "    pass"
      ],
      "metadata": {
        "id": "VmzLX1_KH_t7"
      },
      "execution_count": null,
      "outputs": []
    },
    {
      "cell_type": "code",
      "source": [
        "# Detect Google Colab\n",
        "IN_COLAB = 'google.colab' in sys.modules\n",
        "\n",
        "if IN_COLAB:\n",
        "    from google.colab import drive\n",
        "    drive.mount('/content/drive')\n",
        "    DATA_PATH = \"/content/drive/MyDrive/dataset/\"\n",
        "else:\n",
        "    DATA_PATH = \"./\"\n",
        "\n",
        "# Download dataset in kaggle\n",
        "if IN_COLAB and not os.path.exists(DATA_PATH + \"HAM10000_metadata.csv\"):\n",
        "    !pip install kaggle\n",
        "    from google.colab import files\n",
        "    files.upload()  # Upload kaggle.json manually (for API authentication)\n",
        "\n",
        "    !mkdir -p ~/.kaggle\n",
        "    !cp kaggle.json ~/.kaggle/\n",
        "    !chmod 600 ~/.kaggle/kaggle.json\n",
        "    !kaggle datasets download -d kmader/skin-cancer-mnist-ham10000 -p {DATA_PATH} --unzip\n",
        "    print(\"Dataset downloaded and extracted.\")\n",
        "\n",
        "# Initialize required path\n",
        "metadata_path = os.path.join(DATA_PATH, \"HAM10000_metadata.csv\")\n",
        "images_path = os.path.join(DATA_PATH, \"HAM10000_images_part_1/\")\n",
        "\n",
        "df = pd.read_csv(metadata_path)"
      ],
      "metadata": {
        "id": "HTI5nvLvFuE7"
      },
      "execution_count": null,
      "outputs": []
    },
    {
      "cell_type": "code",
      "source": [
        "from google.colab import drive\n",
        "drive.mount('/content/drive')"
      ],
      "metadata": {
        "id": "oXxll4red7-D"
      },
      "execution_count": null,
      "outputs": []
    },
    {
      "cell_type": "code",
      "source": [
        "#code to check sample data\n",
        "df.head()"
      ],
      "metadata": {
        "id": "N2wH9w0mGEDv"
      },
      "execution_count": null,
      "outputs": []
    },
    {
      "cell_type": "markdown",
      "source": [
        "### Step 4: Basic Exploration"
      ],
      "metadata": {
        "id": "sRpOWEByGPuE"
      }
    },
    {
      "cell_type": "code",
      "source": [
        "print(\"Number of rows: \", df.shape[0])\n",
        "print(\"Number of columns: \", df.shape[1])\n",
        "print(\"\\n\")\n",
        "print(\"Column Names:\", df.columns)\n",
        "print(\"\\n\")\n",
        "print(\"Missing Values:\\n\", df.isnull().sum())"
      ],
      "metadata": {
        "id": "eHhif5-AGMlB"
      },
      "execution_count": null,
      "outputs": []
    },
    {
      "cell_type": "markdown",
      "source": [
        "### Step 5: Data Preprocessing\n"
      ],
      "metadata": {
        "id": "d2YFNYJUGgN2"
      }
    },
    {
      "cell_type": "markdown",
      "source": [
        "1. Age column has 57 missing value, updating missing value with median"
      ],
      "metadata": {
        "id": "7wvJlfpqKV1S"
      }
    },
    {
      "cell_type": "code",
      "source": [
        "# Fill missing age values with the median age\n",
        "df['age'] = df['age'].fillna(df['age'].median())"
      ],
      "metadata": {
        "id": "dHoMNgrUGkGh"
      },
      "execution_count": null,
      "outputs": []
    },
    {
      "cell_type": "markdown",
      "source": [
        "2. There are 3 categorical variables, Using label encoder to convert these string to numerical columns\n",
        "    1. Gender\n",
        "    2. Diagnosis class\n",
        "    3. Localization\n"
      ],
      "metadata": {
        "id": "gymqWd_cKlfV"
      }
    },
    {
      "cell_type": "code",
      "source": [
        "# Encode categorical variables\n",
        "le_sex = LabelEncoder()\n",
        "# 0 = Female, 1 = Male, 2= unknown\n",
        "df['sex'] = le_sex.fit_transform(df['sex'])\n",
        "\n",
        "le_dx = LabelEncoder()\n",
        "# Encodes the 7 diagnosis classes\n",
        "#0-akiec, 1-bcc, 2-bkl, 3-df, 4-mel, 5-nv, 6-vasc\n",
        "df['dx'] = le_dx.fit_transform(df['dx'])\n",
        "\n",
        "le_localization = LabelEncoder()\n",
        "# Encodes the 15 localization classes\n",
        "# 0-abdomen, 1- acral, 2-back, 3-chest, 4- ear, 5-face, 6-foot, 7-genital, 8-hand, 9-lower extremity, 10-neck, 11-scalp, 12-trunk, 13-unknown, 14-upper extremity\n",
        "df['localization'] = le_localization.fit_transform(df['localization'])\n",
        "\n",
        "#check sample data\n",
        "df.head()"
      ],
      "metadata": {
        "id": "YSL5LIcTGqrq"
      },
      "execution_count": null,
      "outputs": []
    },
    {
      "cell_type": "markdown",
      "source": [
        "### Step 6: Exploratory Data Analysis (EDA)"
      ],
      "metadata": {
        "id": "fWmo8HLdHYL-"
      }
    },
    {
      "cell_type": "code",
      "source": [
        "# Plot class distribution\n",
        "plt.figure(figsize=(10, 5))\n",
        "sns.countplot(x='dx', hue='dx', data=df, palette='coolwarm')\n",
        "plt.xticks(rotation=45)\n",
        "plt.title(\"Distribution of Lesion Types\")\n",
        "\n",
        "# Create custom legend labels\n",
        "legend_labels = {\n",
        "    0: 'akiec',\n",
        "    1: 'bcc',\n",
        "    2: 'bkl',\n",
        "    3: 'df',\n",
        "    4: 'mel',\n",
        "    5: 'nv',\n",
        "    6: 'vasc'\n",
        "}\n",
        "\n",
        "# Get the current handles and labels from the plot\n",
        "handles, labels = plt.gca().get_legend_handles_labels()\n",
        "\n",
        "# Create a new list of legend labels using the custom mapping\n",
        "new_labels = [legend_labels[int(label)] for label in labels]\n",
        "\n",
        "# Create the legend with the updated labels\n",
        "plt.legend(handles, new_labels, title='Lesion Type')\n",
        "\n",
        "plt.show()\n"
      ],
      "metadata": {
        "id": "g24pmjh1Jszt"
      },
      "execution_count": null,
      "outputs": []
    },
    {
      "cell_type": "markdown",
      "source": [
        "#### Type of lesions\n",
        "\n",
        "- akiec (Actinic keratoses and intraepithelial carcinoma)\n",
        "- bcc (Basal cell carcinoma)\n",
        "- bkl (Benign keratosis-like lesions)\n",
        "- df (Dermatofibroma)\n",
        "- mel (Melanoma)\n",
        "- nv (Melanocytic nevi)\n",
        "- vasc (Vascular lesions)\n",
        "\n",
        "The plot above suggests that melanocytic nevi are the most common type of skin lesion in the dataset."
      ],
      "metadata": {
        "id": "HsyAYUPXTURJ"
      }
    },
    {
      "cell_type": "code",
      "source": [
        "# Age distribution\n",
        "plt.figure(figsize=(8, 4))\n",
        "sns.histplot(df['age'], bins=30, kde=True)\n",
        "plt.title(\"Age Distribution of Patients\")\n",
        "plt.xlabel(\"Age\")\n",
        "plt.show()"
      ],
      "metadata": {
        "id": "_KeCA5-IHbFr"
      },
      "execution_count": null,
      "outputs": []
    },
    {
      "cell_type": "markdown",
      "source": [
        "- The plot represents the age distribution of patients in the dataset.\n",
        "- It shows that most patients are between 30 and 60 years old, with a peak around the 40s.\n",
        "- The distribution indicates a higher frequency of older patients compared to younger ones."
      ],
      "metadata": {
        "id": "XeedNZvzWpc3"
      }
    },
    {
      "cell_type": "code",
      "source": [
        "# Sex distribution\n",
        "plt.figure(figsize=(6, 4))\n",
        "sns.countplot(x='sex', hue='sex', data=df, palette='viridis')\n",
        "plt.xticks(ticks=[0, 1, 2], labels=['Female', 'Male', 'unknown'])\n",
        "plt.title(\"Gender Distribution\")\n",
        "plt.show()"
      ],
      "metadata": {
        "id": "lIAupo8JHdbZ"
      },
      "execution_count": null,
      "outputs": []
    },
    {
      "cell_type": "markdown",
      "source": [
        "- The plot indicates that Males are most affected with skin cancer as compared to females and unknown"
      ],
      "metadata": {
        "id": "P6UvzCS2XKsW"
      }
    },
    {
      "cell_type": "markdown",
      "source": [
        "### Step 7: Statistical Tests"
      ],
      "metadata": {
        "id": "I5vZSoHZISiY"
      }
    },
    {
      "cell_type": "markdown",
      "source": [
        "**t-test:**\n",
        "\n",
        "A t-test is a statistical test used to compare the means of two groups to determine if they are significantly different from each other. It is commonly used in hypothesis testing."
      ],
      "metadata": {
        "id": "HdvM173PXzjN"
      }
    },
    {
      "cell_type": "markdown",
      "source": [
        "**Benign Lesions**\n",
        "The benign category includes non-cancerous (harmless) lesions:\n",
        "bkl (Benign keratosis-like lesions)\n",
        "nv (Melanocytic nevi - common moles)\n",
        "These lesions are generally not life-threatening and do not spread aggressively.\n",
        "\n",
        "**Malignant Lesions**\n",
        "The malignant category includes cancerous (harmful) lesions:\n",
        "mel (Melanoma - the deadliest form of skin cancer)\n",
        "bcc (Basal cell carcinoma - a slow-growing skin cancer)\n",
        "akiec (Actinic keratoses and intraepithelial carcinoma - precancerous/cancerous growths)\n",
        "These lesions have the potential to invade nearby tissues and spread if not treated."
      ],
      "metadata": {
        "id": "4SAEXmMyf0IB"
      }
    },
    {
      "cell_type": "code",
      "source": [
        "# Hypothesis: Is there a significant difference in age between benign & malignant lesions?\n",
        "benign = df[df['dx'].isin([le_dx.transform(['bkl'])[0], le_dx.transform(['nv'])[0]])]['age']\n",
        "malignant = df[df['dx'].isin([le_dx.transform(['mel'])[0], le_dx.transform(['bcc'])[0], le_dx.transform(['akiec'])[0]])]['age']"
      ],
      "metadata": {
        "id": "oKMbOgLdIPeI"
      },
      "execution_count": null,
      "outputs": []
    },
    {
      "cell_type": "code",
      "source": [
        "# Perform an independent t-test\n",
        "t_stat, p_value = stats.ttest_ind(benign, malignant, equal_var=False)\n",
        "print(f\"T-test result: t-statistic = {t_stat:.4f}, p-value = {p_value:.4f}\")\n",
        "if p_value < 0.05:\n",
        "    print(\"\\n Statistically significant difference in age between benign and malignant lesions.\")\n",
        "else:\n",
        "    print(\"\\n No significant difference in age between benign and malignant lesions.\")"
      ],
      "metadata": {
        "id": "Y1V7hVC4JDwH"
      },
      "execution_count": null,
      "outputs": []
    },
    {
      "cell_type": "markdown",
      "source": [
        "### Step 8: Hypothesis Evaluation"
      ],
      "metadata": {
        "id": "V5EBaBdoJPV_"
      }
    },
    {
      "cell_type": "markdown",
      "source": [
        "**Chi-Square Test :**\n",
        "\n",
        "The Chi-Square test is a statistical test used to determine if there is a significant association between categorical variables. In this dataset, it can be applied to check if factors like lesion type and patient gender are independent or correlated."
      ],
      "metadata": {
        "id": "uTfDFF67XqJv"
      }
    },
    {
      "cell_type": "code",
      "source": [
        "# Chi-Square test for gender distribution across lesion types\n",
        "contingency_table = pd.crosstab(df['sex'], df['dx'])\n",
        "chi2_stat, p, dof, expected = stats.chi2_contingency(contingency_table)\n",
        "print(f\"Chi-Square Test: chi2 = {chi2_stat:.4f}, p-value = {p:.4f}\")\n",
        "if p < 0.05:\n",
        "    print(\"\\n Statistically significant association between gender and lesion type.\")\n",
        "else:\n",
        "    print(\"\\n No significant association between gender and lesion type.\")"
      ],
      "metadata": {
        "id": "tntZix_aJMaQ"
      },
      "execution_count": null,
      "outputs": []
    },
    {
      "cell_type": "markdown",
      "source": [
        "### Step 9: Observations & Summary"
      ],
      "metadata": {
        "id": "yEh0Y5wTlIE4"
      }
    },
    {
      "cell_type": "markdown",
      "source": [
        "**Key Findings**\n",
        "\n",
        "**Statistical Tests & Hypothesis Evaluation**\n",
        "\n",
        "t-test was conducted to compare means between different groups.\n",
        "\n",
        "Chi-Square test for gender distribution across lesion types.\n",
        "\n",
        "**Potential Challenges**\n",
        "\n",
        "Class Imbalance:\n",
        "\n",
        "Some lesion types (e.g., Melanocytic nevi) dominate, while others are underrepresented.\n",
        "\n",
        "This could bias the model toward predicting the most common class.\n",
        "\n",
        "**Data Bias:**\n",
        "\n",
        "Higher representation of certain age groups may lead to a model that performs better on middle-aged individuals but poorly on younger or older patients.\n",
        "\n",
        "**Feature Engineering Needed:**\n",
        "\n",
        "Image-based features may need augmentation techniques to balance classes."
      ],
      "metadata": {
        "id": "RCEhO9WPkgUe"
      }
    },
    {
      "cell_type": "markdown",
      "source": [
        "1. Load & Preprocess the Data\n",
        "Load HAM10000_metadata.csv and image files.\n",
        "\n",
        "Join metadata with image data.\n",
        "\n",
        "Encode categorical labels (e.g., lesion types).\n",
        "\n",
        "Resize images (e.g., 64x64 or 128x128) and normalize pixel values (divide by 255)."
      ],
      "metadata": {
        "id": "M6MQYkJWWFRx"
      }
    },
    {
      "cell_type": "code",
      "source": [
        "import os\n",
        "import cv2\n",
        "from tqdm import tqdm  # for progress bar\n",
        "\n",
        "# Define image folders\n",
        "images_path_1 = os.path.join(DATA_PATH, \"HAM10000_images_part_1/\")\n",
        "images_path_2 = os.path.join(DATA_PATH, \"HAM10000_images_part_2/\")\n",
        "\n",
        "# Initialize lists\n",
        "image_data = []\n",
        "labels = []\n",
        "\n",
        "# Loop through metadata with progress bar\n",
        "print(\"📥 Loading and processing images...\")\n",
        "for idx, row in tqdm(df.iterrows(), total=len(df)):\n",
        "    filename = row['image_id'] + \".jpg\"\n",
        "    label = row['dx']  # 'dx' contains the lesion type\n",
        "\n",
        "    # Build possible image paths\n",
        "    path1 = os.path.join(images_path_1, filename)\n",
        "    path2 = os.path.join(images_path_2, filename)\n",
        "\n",
        "    # Try loading the image from both folders\n",
        "    img = None\n",
        "    if os.path.exists(path1):\n",
        "        img = cv2.imread(path1)\n",
        "    elif os.path.exists(path2):\n",
        "        img = cv2.imread(path2)\n",
        "\n",
        "    # If image not found or can't be read, skip\n",
        "    if img is None:\n",
        "        print(f\"⚠️ Could not load image: {filename}\")\n",
        "        continue\n",
        "\n",
        "    # Resize image to 64x64 and convert BGR to RGB\n",
        "    img = cv2.resize(img, (64, 64))\n",
        "    img = cv2.cvtColor(img, cv2.COLOR_BGR2RGB)\n",
        "\n",
        "    # Append image and label\n",
        "    image_data.append(img)\n",
        "    labels.append(label)\n",
        "\n",
        "print(f\"\\n✅ Total images loaded: {len(image_data)}\")\n",
        "\n"
      ],
      "metadata": {
        "id": "rLn0aXhPWJXe"
      },
      "execution_count": null,
      "outputs": []
    },
    {
      "cell_type": "markdown",
      "source": [
        "Convert Data to NumPy Arrays"
      ],
      "metadata": {
        "id": "XqFFBEBTjGJx"
      }
    },
    {
      "cell_type": "code",
      "source": [
        "import numpy as np\n",
        "\n",
        "# Convert to NumPy arrays\n",
        "X = np.array(image_data)\n",
        "y = np.array(labels)\n",
        "\n",
        "print(\"✅ Data shapes:\")\n",
        "print(\"Images (X):\", X.shape)\n",
        "print(\"Labels (y):\", y.shape)\n"
      ],
      "metadata": {
        "id": "2WnvIzIri04a"
      },
      "execution_count": null,
      "outputs": []
    },
    {
      "cell_type": "markdown",
      "source": [
        "Encode Labels (String → Integer → One-hot)"
      ],
      "metadata": {
        "id": "bMQl-8r4jJfF"
      }
    },
    {
      "cell_type": "code",
      "source": [
        "from sklearn.preprocessing import LabelEncoder\n",
        "from tensorflow.keras.utils import to_categorical\n",
        "\n",
        "# Encode string labels into integers\n",
        "label_encoder = LabelEncoder()\n",
        "y_encoded = label_encoder.fit_transform(y)\n",
        "\n",
        "# One-hot encode the integer labels\n",
        "y_onehot = to_categorical(y_encoded)\n",
        "\n",
        "print(\"✅ Unique classes:\", label_encoder.classes_)\n",
        "print(\"Encoded labels shape:\", y_onehot.shape)\n"
      ],
      "metadata": {
        "id": "q3QpjmYti3eb"
      },
      "execution_count": null,
      "outputs": []
    },
    {
      "cell_type": "code",
      "source": [
        "from sklearn.preprocessing import LabelEncoder\n",
        "from tensorflow.keras.utils import to_categorical\n",
        "\n",
        "# Use original string labels from 'dx'\n",
        "label_encoder = LabelEncoder()\n",
        "y_encoded = label_encoder.fit_transform(labels)  # labels should be string list from earlier\n",
        "y_onehot = to_categorical(y_encoded)\n",
        "\n",
        "# Get class names as string list\n",
        "class_names = label_encoder.classes_\n",
        "\n",
        "print(\"Classes:\", class_names)\n"
      ],
      "metadata": {
        "id": "o4ug0xl-lxhB"
      },
      "execution_count": null,
      "outputs": []
    },
    {
      "cell_type": "markdown",
      "source": [
        "Train-Test Split"
      ],
      "metadata": {
        "id": "ii5fXj06WMfh"
      }
    },
    {
      "cell_type": "code",
      "source": [
        "from sklearn.model_selection import train_test_split\n",
        "\n",
        "X_train, X_test, y_train, y_test = train_test_split(\n",
        "    X, y_onehot,\n",
        "    test_size=0.2,\n",
        "    random_state=42,\n",
        "    stratify=y_onehot\n",
        ")\n",
        "\n",
        "print(\"Train shape:\", X_train.shape)\n",
        "print(\"Test shape:\", X_test.shape)\n"
      ],
      "metadata": {
        "id": "Ksx0Df7QWzI6"
      },
      "execution_count": null,
      "outputs": []
    },
    {
      "cell_type": "markdown",
      "source": [
        "Build a CNN Model"
      ],
      "metadata": {
        "id": "2QOmO-qFWczw"
      }
    },
    {
      "cell_type": "code",
      "source": [
        "import tensorflow as tf\n",
        "from tensorflow.keras.models import Sequential\n",
        "from tensorflow.keras.layers import Conv2D, MaxPooling2D, Flatten, Dense, Dropout\n",
        "\n",
        "# Normalize image pixels\n",
        "X_train = X_train / 255.0\n",
        "X_test = X_test / 255.0\n",
        "\n",
        "# Build CNN\n",
        "model = Sequential([\n",
        "    Conv2D(32, (3, 3), activation='relu', input_shape=(64, 64, 3)),\n",
        "    MaxPooling2D(2, 2),\n",
        "\n",
        "    Conv2D(64, (3, 3), activation='relu'),\n",
        "    MaxPooling2D(2, 2),\n",
        "\n",
        "    Flatten(),\n",
        "    Dense(128, activation='relu'),\n",
        "    Dropout(0.5),\n",
        "    Dense(y_train.shape[1], activation='softmax')  # 7 output classes\n",
        "])\n",
        "\n",
        "# Compile model\n",
        "model.compile(optimizer='adam', loss='categorical_crossentropy', metrics=['accuracy'])\n",
        "model.summary()\n",
        "\n",
        "# Train\n",
        "history = model.fit(X_train, y_train, epochs=10, batch_size=32, validation_data=(X_test, y_test))\n",
        "\n"
      ],
      "metadata": {
        "id": "i6WUnChJWdz1"
      },
      "execution_count": null,
      "outputs": []
    },
    {
      "cell_type": "markdown",
      "source": [
        "Plot Training & Validation Accuracy and Loss"
      ],
      "metadata": {
        "id": "XmmzNZswXlaw"
      }
    },
    {
      "cell_type": "code",
      "source": [
        "import matplotlib.pyplot as plt\n",
        "\n",
        "# Plot accuracy\n",
        "plt.figure(figsize=(12, 4))\n",
        "\n",
        "plt.subplot(1, 2, 1)\n",
        "plt.plot(history.history['accuracy'], label='Train Accuracy', marker='o')\n",
        "plt.plot(history.history['val_accuracy'], label='Val Accuracy', marker='x')\n",
        "plt.title('Model Accuracy')\n",
        "plt.xlabel('Epoch')\n",
        "plt.ylabel('Accuracy')\n",
        "plt.legend()\n",
        "\n",
        "# Plot loss\n",
        "plt.subplot(1, 2, 2)\n",
        "plt.plot(history.history['loss'], label='Train Loss', marker='o')\n",
        "plt.plot(history.history['val_loss'], label='Val Loss', marker='x')\n",
        "plt.title('Model Loss')\n",
        "plt.xlabel('Epoch')\n",
        "plt.ylabel('Loss')\n",
        "plt.legend()\n",
        "\n",
        "plt.tight_layout()\n",
        "plt.show()\n"
      ],
      "metadata": {
        "id": "Cff0rSDDjsch"
      },
      "execution_count": null,
      "outputs": []
    },
    {
      "cell_type": "markdown",
      "source": [
        "Evaluate with Confusion Matrix"
      ],
      "metadata": {
        "id": "h2kygL7nXo33"
      }
    },
    {
      "cell_type": "code",
      "source": [
        "from sklearn.metrics import confusion_matrix, classification_report\n",
        "import seaborn as sns\n",
        "\n",
        "# Predict test set\n",
        "y_pred_probs = model.predict(X_test)\n",
        "y_pred = np.argmax(y_pred_probs, axis=1)\n",
        "y_true = np.argmax(y_test, axis=1)\n",
        "\n",
        "# Confusion matrix\n",
        "cm = confusion_matrix(y_true, y_pred)\n",
        "labels = label_encoder.classes_\n",
        "\n",
        "plt.figure(figsize=(8, 6))\n",
        "sns.heatmap(cm, annot=True, fmt='d', cmap='Blues', xticklabels=labels, yticklabels=labels)\n",
        "plt.xlabel('Predicted')\n",
        "plt.ylabel('Actual')\n",
        "plt.title('Confusion Matrix')\n",
        "plt.show()\n",
        "# Convert label_encoder.classes_ to string list\n",
        "class_names = [str(c) for c in label_encoder.classes_]\n",
        "\n",
        "# Print classification report with zero_division to suppress warnings\n",
        "print(\"Classification Report:\\n\")\n",
        "print(classification_report(y_true, y_pred, target_names=class_names, zero_division=0))\n",
        "\n",
        "\n"
      ],
      "metadata": {
        "id": "rtYaQI5djw0d"
      },
      "execution_count": null,
      "outputs": []
    },
    {
      "cell_type": "markdown",
      "source": [
        "Save the Trained Model"
      ],
      "metadata": {
        "id": "82GnE9vtXsBy"
      }
    },
    {
      "cell_type": "code",
      "source": [
        "# Save model\n",
        "model.save(\"skin_cancer_classifier_model.h5\")\n",
        "print(\"Model saved as skin_cancer_classifier_model.h5\")\n"
      ],
      "metadata": {
        "id": "VU610fhFjzAN"
      },
      "execution_count": null,
      "outputs": []
    },
    {
      "cell_type": "markdown",
      "source": [
        "Extend the Metadata with Synthetic Columns"
      ],
      "metadata": {
        "id": "0jUzvVagX0HN"
      }
    },
    {
      "cell_type": "code",
      "source": [
        "import pandas as pd\n",
        "import random\n",
        "\n",
        "# Load your metadata if you haven't already\n",
        "metadata_path = os.path.join(DATA_PATH, \"HAM10000_metadata.csv\")\n",
        "df = pd.read_csv(metadata_path)\n",
        "\n",
        "# Optional: Reset index if needed\n",
        "df = df.reset_index(drop=True)\n",
        "\n",
        "# Define synthetic values\n",
        "professions = ['farmer', 'teacher', 'construction worker', 'office worker', 'student', 'factory worker', 'driver', 'retired']\n",
        "\n",
        "sun_exposure_map = {\n",
        "    'farmer': 'yes',\n",
        "    'construction worker': 'yes',\n",
        "    'driver': 'yes',\n",
        "    'teacher': 'no',\n",
        "    'office worker': 'no',\n",
        "    'student': 'no',\n",
        "    'factory worker': 'no',\n",
        "    'retired': random.choice(['yes', 'no'])\n",
        "}\n",
        "\n",
        "chemical_exposure_map = {\n",
        "    'factory worker': 'yes',\n",
        "    'construction worker': 'yes',\n",
        "    'farmer': 'yes',\n",
        "    'teacher': 'no',\n",
        "    'office worker': 'no',\n",
        "    'student': 'no',\n",
        "    'driver': 'no',\n",
        "    'retired': random.choice(['yes', 'no'])\n",
        "}\n",
        "\n",
        "# Add synthetic columns\n",
        "df['profession'] = [random.choice(professions) for _ in range(len(df))]\n",
        "df['sun_exposed'] = df['profession'].apply(lambda x: sun_exposure_map.get(x, 'no'))\n",
        "df['chemical_exposed'] = df['profession'].apply(lambda x: chemical_exposure_map.get(x, 'no'))\n",
        "\n",
        "# Define binary cancer diagnosis\n",
        "cancer_types = ['mel', 'bcc', 'akiec']\n",
        "df['cancer_diagnosed'] = df['dx'].apply(lambda x: 'yes' if x in cancer_types else 'no')\n",
        "\n",
        "print(\"✅ Metadata extended with synthetic features.\")\n",
        "df.head()\n"
      ],
      "metadata": {
        "id": "R1Y8SCv1q5UJ"
      },
      "execution_count": null,
      "outputs": []
    },
    {
      "cell_type": "code",
      "source": [
        "df.count()"
      ],
      "metadata": {
        "id": "75eSWTU7uG7u"
      },
      "execution_count": null,
      "outputs": []
    },
    {
      "cell_type": "code",
      "source": [
        "import seaborn as sns\n",
        "import matplotlib.pyplot as plt\n",
        "\n",
        "# Cancer count by profession\n",
        "plt.figure(figsize=(10, 5))\n",
        "sns.countplot(data=df, x='profession', hue='cancer_diagnosed')\n",
        "plt.title(\"Skin Cancer Diagnosis by Profession\")\n",
        "plt.xticks(rotation=45)\n",
        "plt.tight_layout()\n",
        "plt.show()\n"
      ],
      "metadata": {
        "id": "iZLmTY3lq8eI"
      },
      "execution_count": null,
      "outputs": []
    },
    {
      "cell_type": "code",
      "source": [
        "# Sunlight Exposure vs Cancer Diagnosis\n",
        "sunlight_ct = pd.crosstab(df['sun_exposed'], df['cancer_diagnosed'], normalize='index')\n",
        "print(\"Sunlight Exposure vs Cancer Diagnosis:\\n\", sunlight_ct)\n",
        "\n",
        "# Chemical Exposure vs Cancer Diagnosis\n",
        "chemical_ct = pd.crosstab(df['chemical_exposed'], df['cancer_diagnosed'], normalize='index')\n",
        "print(\"\\nChemical Exposure vs Cancer Diagnosis:\\n\", chemical_ct)\n"
      ],
      "metadata": {
        "id": "pcJwt3orrAJN"
      },
      "execution_count": null,
      "outputs": []
    },
    {
      "cell_type": "code",
      "source": [
        "# Group by combinations\n",
        "heatmap_data = df.groupby(['sun_exposed', 'chemical_exposed', 'cancer_diagnosed']).size().unstack().fillna(0)\n",
        "\n",
        "# Plot heatmap\n",
        "plt.figure(figsize=(6, 4))\n",
        "sns.heatmap(heatmap_data, annot=True, fmt='g', cmap='YlOrRd')\n",
        "plt.title(\"Cancer Diagnosis by Sun & Chemical Exposure\")\n",
        "plt.ylabel('Sun / Chemical Exposure')\n",
        "plt.xlabel('Cancer Diagnosed')\n",
        "plt.show()"
      ],
      "metadata": {
        "id": "GLt-A5yQrCDZ"
      },
      "execution_count": null,
      "outputs": []
    },
    {
      "cell_type": "code",
      "source": [
        "# Save the extended DataFrame to a CSV file\n",
        "csv_path = \"/content/extended_skin_cancer_data.csv\"\n",
        "df.to_csv(csv_path, index=False)\n",
        "print(f\"✅ CSV saved to: {csv_path}\")\n"
      ],
      "metadata": {
        "id": "mYCM3-Cuuqsc"
      },
      "execution_count": null,
      "outputs": []
    },
    {
      "cell_type": "code",
      "source": [
        "# Create age bins\n",
        "df['age_group'] = pd.cut(df['age'], bins=[0, 20, 40, 60, 80, 100],\n",
        "                         labels=['0–20', '21–40', '41–60', '61–80', '81+'])\n",
        "\n",
        "# Plot\n",
        "plt.figure(figsize=(8,5))\n",
        "sns.countplot(data=df, x='age_group', hue='cancer_diagnosed')\n",
        "plt.title('Cancer Diagnosis by Age Group')\n",
        "plt.xlabel('Age Group')\n",
        "plt.ylabel('Count')\n",
        "plt.tight_layout()\n",
        "plt.show()\n"
      ],
      "metadata": {
        "id": "bi8r5E8Kwcgi"
      },
      "execution_count": null,
      "outputs": []
    },
    {
      "cell_type": "code",
      "source": [
        "import pandas as pd\n",
        "import random\n",
        "import numpy as np\n",
        "\n",
        "# Reload the metadata (if needed)\n",
        "metadata_path = os.path.join(DATA_PATH, \"HAM10000_metadata.csv\")\n",
        "df = pd.read_csv(metadata_path)\n",
        "df = df.reset_index(drop=True)\n",
        "\n",
        "# Step 1: Assign random professions\n",
        "professions = ['farmer', 'teacher', 'construction worker', 'office worker', 'student', 'factory worker', 'driver', 'retired']\n",
        "df['profession'] = [random.choice(professions) for _ in range(len(df))]\n",
        "\n",
        "# Step 2: Define exposure logic\n",
        "sun_exposure_map = {\n",
        "    'farmer': 'yes',\n",
        "    'construction worker': 'yes',\n",
        "    'driver': 'yes',\n",
        "    'teacher': 'no',\n",
        "    'office worker': 'no',\n",
        "    'student': 'no',\n",
        "    'factory worker': 'no',\n",
        "    'retired': random.choice(['yes', 'no'])\n",
        "}\n",
        "chemical_exposure_map = {\n",
        "    'factory worker': 'yes',\n",
        "    'construction worker': 'yes',\n",
        "    'farmer': 'yes',\n",
        "    'teacher': 'no',\n",
        "    'office worker': 'no',\n",
        "    'student': 'no',\n",
        "    'driver': 'no',\n",
        "    'retired': random.choice(['yes', 'no'])\n",
        "}\n",
        "\n",
        "df['sun_exposed'] = df['profession'].apply(lambda x: sun_exposure_map.get(x, 'no'))\n",
        "df['chemical_exposed'] = df['profession'].apply(lambda x: chemical_exposure_map.get(x, 'no'))\n",
        "\n",
        "# Step 3: Set cancer probability by profession\n",
        "# Higher risk professions get higher probabilities\n",
        "cancer_risk_by_profession = {\n",
        "    'farmer': 0.5,\n",
        "    'construction worker': 0.45,\n",
        "    'factory worker': 0.4,\n",
        "    'driver': 0.3,\n",
        "    'teacher': 0.2,\n",
        "    'retired': 0.2,\n",
        "    'office worker': 0.1,\n",
        "    'student': 0.05\n",
        "}\n",
        "\n",
        "# Generate cancer diagnosis based on risk probability\n",
        "def assign_cancer(prof):\n",
        "    return 'yes' if random.random() < cancer_risk_by_profession[prof] else 'no'\n",
        "\n",
        "df['cancer_diagnosed'] = df['profession'].apply(assign_cancer)\n",
        "\n",
        "print(\"✅ Skewed cancer diagnosis based on profession exposure risk.\")\n",
        "df.head()\n"
      ],
      "metadata": {
        "id": "f-z-dc8cxWdI"
      },
      "execution_count": null,
      "outputs": []
    },
    {
      "cell_type": "code",
      "source": [
        "import seaborn as sns\n",
        "import matplotlib.pyplot as plt\n",
        "\n",
        "plt.figure(figsize=(10,5))\n",
        "sns.countplot(data=df, x='profession', hue='cancer_diagnosed', order=professions)\n",
        "plt.title(\"Cancer Diagnosis by Profession (Skewed Exposure Risk)\")\n",
        "plt.xticks(rotation=45)\n",
        "plt.tight_layout()\n",
        "plt.show()\n"
      ],
      "metadata": {
        "id": "4m11BXCFxZcr"
      },
      "execution_count": null,
      "outputs": []
    },
    {
      "cell_type": "code",
      "source": [
        "df.to_csv(\"/content/extended_skin_cancer_data_skewed.csv\", index=False)\n",
        "from google.colab import files\n",
        "files.download(\"/content/extended_skin_cancer_data_skewed.csv\")\n",
        "\n"
      ],
      "metadata": {
        "id": "wWT4FoCjxeDa"
      },
      "execution_count": null,
      "outputs": []
    },
    {
      "cell_type": "code",
      "source": [
        "fig, ax = plt.subplots(1, 2, figsize=(12, 4))\n",
        "\n",
        "sns.countplot(data=df, x='sun_exposed', hue='cancer_diagnosed', ax=ax[0])\n",
        "ax[0].set_title('🔆 Sunlight Exposure vs Cancer')\n",
        "\n",
        "sns.countplot(data=df, x='chemical_exposed', hue='cancer_diagnosed', ax=ax[1])\n",
        "ax[1].set_title('🧪 Chemical Exposure vs Cancer')\n",
        "\n",
        "plt.tight_layout()\n",
        "plt.show()\n"
      ],
      "metadata": {
        "id": "VCpldeS5xr2J"
      },
      "execution_count": null,
      "outputs": []
    },
    {
      "cell_type": "code",
      "source": [
        "# Prepare numeric-encoded copy of df\n",
        "df_encoded = df.copy()\n",
        "\n",
        "# Encode binary and categorical features\n",
        "df_encoded['cancer_diagnosed'] = df_encoded['cancer_diagnosed'].map({'yes': 1, 'no': 0})\n",
        "df_encoded['sun_exposed'] = df_encoded['sun_exposed'].map({'yes': 1, 'no': 0})\n",
        "df_encoded['chemical_exposed'] = df_encoded['chemical_exposed'].map({'yes': 1, 'no': 0})\n",
        "df_encoded['gender'] = df_encoded['gender'].map({'male': 1, 'female': 0})\n",
        "df_encoded['retired'] = df_encoded['profession'].map(lambda x: 1 if x == 'retired' else 0)\n",
        "\n",
        "plt.figure(figsize=(8, 6))\n",
        "sns.heatmap(df_encoded[['age', 'gender', 'sun_exposed', 'chemical_exposed', 'cancer_diagnosed']].corr(),\n",
        "            annot=True, cmap='coolwarm')\n",
        "plt.title('📊 Correlation Heatmap')\n",
        "plt.tight_layout()\n",
        "plt.show()\n"
      ],
      "metadata": {
        "id": "WLuXwn_axyZS"
      },
      "execution_count": null,
      "outputs": []
    },
    {
      "cell_type": "code",
      "source": [
        "df['exposure_combo'] = df['sun_exposed'] + ' / ' + df['chemical_exposed']\n",
        "\n",
        "exposure_ct = pd.crosstab(df['exposure_combo'], df['cancer_diagnosed'])\n",
        "sns.heatmap(exposure_ct, annot=True, cmap='YlOrRd', fmt='d')\n",
        "\n",
        "plt.title('🔥 Cancer Diagnosis by Combined Exposure (Sun / Chemical)')\n",
        "plt.ylabel('Exposure Combo')\n",
        "plt.xlabel('Cancer Diagnosed')\n",
        "plt.tight_layout()\n",
        "plt.show()\n"
      ],
      "metadata": {
        "id": "rbp-5Qd0x8V4"
      },
      "execution_count": null,
      "outputs": []
    }
  ]
}