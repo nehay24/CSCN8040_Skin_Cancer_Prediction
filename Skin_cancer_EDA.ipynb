{
  "cells": [
    {
      "cell_type": "markdown",
      "metadata": {
        "id": "fOkK6RIGl_Yo"
      },
      "source": [
        "## Case Studies in Artificial Intelligence and Machine Learning\n",
        "### Unit 4: Interim Results\n",
        "\n",
        "### Group 4\n",
        "| Student Id     | Name                     |\n",
        "|----------------|--------------------------|\n",
        "| 9027375        | Khushbu Lad              |\n",
        "| 8944328        | Akshata Madhav           |\n",
        "| 8964515        | Neha Yadav               |\n",
        "| 8965985        | Pradeepti Kasam          |\n",
        "| 8914803        | Rohit Totlani            |\n",
        "\n",
        "Dataset URL:\n",
        "\n",
        "[Skin Cancer MNIST: HAM10000](https://www.kaggle.com/datasets/kmader/skin-cancer-mnist-ham10000)"
      ]
    },
    {
      "cell_type": "markdown",
      "metadata": {
        "id": "7uMJQdktFFH1"
      },
      "source": [
        "### Step 1: Install Required Libraries"
      ]
    },
    {
      "cell_type": "code",
      "execution_count": 54,
      "metadata": {
        "id": "HBMDBVwODA9j"
      },
      "outputs": [
        {
          "name": "stdout",
          "output_type": "stream",
          "text": [
            "Requirement already satisfied: pandas in c:\\users\\khushbu.lad\\appdata\\local\\programs\\python\\python312\\lib\\site-packages (2.2.3)\n",
            "Requirement already satisfied: numpy in c:\\users\\khushbu.lad\\appdata\\local\\programs\\python\\python312\\lib\\site-packages (2.2.3)\n",
            "Requirement already satisfied: matplotlib in c:\\users\\khushbu.lad\\appdata\\local\\programs\\python\\python312\\lib\\site-packages (3.10.1)\n",
            "Requirement already satisfied: seaborn in c:\\users\\khushbu.lad\\appdata\\local\\programs\\python\\python312\\lib\\site-packages (0.13.2)\n",
            "Requirement already satisfied: scipy in c:\\users\\khushbu.lad\\appdata\\local\\programs\\python\\python312\\lib\\site-packages (1.15.2)\n",
            "Requirement already satisfied: scikit-learn in c:\\users\\khushbu.lad\\appdata\\local\\programs\\python\\python312\\lib\\site-packages (1.6.1)\n",
            "Requirement already satisfied: python-dateutil>=2.8.2 in c:\\users\\khushbu.lad\\appdata\\roaming\\python\\python312\\site-packages (from pandas) (2.9.0.post0)\n",
            "Requirement already satisfied: pytz>=2020.1 in c:\\users\\khushbu.lad\\appdata\\local\\programs\\python\\python312\\lib\\site-packages (from pandas) (2024.2)\n",
            "Requirement already satisfied: tzdata>=2022.7 in c:\\users\\khushbu.lad\\appdata\\local\\programs\\python\\python312\\lib\\site-packages (from pandas) (2024.1)\n",
            "Requirement already satisfied: contourpy>=1.0.1 in c:\\users\\khushbu.lad\\appdata\\local\\programs\\python\\python312\\lib\\site-packages (from matplotlib) (1.3.1)\n",
            "Requirement already satisfied: cycler>=0.10 in c:\\users\\khushbu.lad\\appdata\\local\\programs\\python\\python312\\lib\\site-packages (from matplotlib) (0.12.1)\n",
            "Requirement already satisfied: fonttools>=4.22.0 in c:\\users\\khushbu.lad\\appdata\\local\\programs\\python\\python312\\lib\\site-packages (from matplotlib) (4.56.0)\n",
            "Requirement already satisfied: kiwisolver>=1.3.1 in c:\\users\\khushbu.lad\\appdata\\local\\programs\\python\\python312\\lib\\site-packages (from matplotlib) (1.4.8)\n",
            "Requirement already satisfied: packaging>=20.0 in c:\\users\\khushbu.lad\\appdata\\roaming\\python\\python312\\site-packages (from matplotlib) (24.1)\n",
            "Requirement already satisfied: pillow>=8 in c:\\users\\khushbu.lad\\appdata\\local\\programs\\python\\python312\\lib\\site-packages (from matplotlib) (11.1.0)\n",
            "Requirement already satisfied: pyparsing>=2.3.1 in c:\\users\\khushbu.lad\\appdata\\local\\programs\\python\\python312\\lib\\site-packages (from matplotlib) (3.2.1)\n",
            "Requirement already satisfied: joblib>=1.2.0 in c:\\users\\khushbu.lad\\appdata\\local\\programs\\python\\python312\\lib\\site-packages (from scikit-learn) (1.4.2)\n",
            "Requirement already satisfied: threadpoolctl>=3.1.0 in c:\\users\\khushbu.lad\\appdata\\local\\programs\\python\\python312\\lib\\site-packages (from scikit-learn) (3.5.0)\n",
            "Requirement already satisfied: six>=1.5 in c:\\users\\khushbu.lad\\appdata\\roaming\\python\\python312\\site-packages (from python-dateutil>=2.8.2->pandas) (1.16.0)\n"
          ]
        },
        {
          "name": "stderr",
          "output_type": "stream",
          "text": [
            "\n",
            "[notice] A new release of pip is available: 24.2 -> 25.0.1\n",
            "[notice] To update, run: python.exe -m pip install --upgrade pip\n"
          ]
        }
      ],
      "source": [
        "!pip install pandas numpy matplotlib seaborn scipy scikit-learn"
      ]
    },
    {
      "cell_type": "markdown",
      "metadata": {
        "id": "pT8tT7eXFssj"
      },
      "source": [
        "### Step 2: Import Libraries"
      ]
    },
    {
      "cell_type": "code",
      "execution_count": 55,
      "metadata": {
        "id": "oerVIqzBEgSs"
      },
      "outputs": [],
      "source": [
        "import pandas as pd\n",
        "import numpy as np\n",
        "import matplotlib.pyplot as plt\n",
        "import seaborn as sns\n",
        "from scipy import stats\n",
        "from sklearn.preprocessing import LabelEncoder\n",
        "import sys\n",
        "import os"
      ]
    },
    {
      "cell_type": "markdown",
      "metadata": {
        "id": "4IxLivMiF0Ay"
      },
      "source": [
        "### Step 3: Load the Dataset"
      ]
    },
    {
      "cell_type": "markdown",
      "metadata": {
        "id": "74cUMNN5nKBp"
      },
      "source": [
        "**NOTE:**\n",
        "\n",
        "- Our dataset is large containing images of 2.9GB.\n",
        "- The file is configured as it can run in local as well as in google collab.\n",
        "- if you are setting up file for google drive, no configuration is requred.\n",
        "- if this project needs to setup in local device, download the dataset from link in header and extract zip in \"dataset\" folder in project directory\n",
        "- Required file to run EDA is already available in this repository on path\n",
        "- Set the correct file path for the dataset:\n",
        "- data_path = \"./HAM10000_metadata.csv\"\n",
        "- Ensure that the path is updated to match the actual location of the file on your system.\n"
      ]
    },
    {
      "cell_type": "code",
      "execution_count": 56,
      "metadata": {
        "id": "VmzLX1_KH_t7"
      },
      "outputs": [],
      "source": [
        "# Detect Google Colab\n",
        "IN_COLAB = False\n",
        "try:\n",
        "    import google.colab\n",
        "    IN_COLAB = True\n",
        "except ModuleNotFoundError:\n",
        "    pass"
      ]
    },
    {
      "cell_type": "code",
      "execution_count": null,
      "metadata": {
        "id": "HTI5nvLvFuE7"
      },
      "outputs": [],
      "source": [
        "# Detect Google Colab\n",
        "IN_COLAB = 'google.colab' in sys.modules\n",
        "\n",
        "if IN_COLAB:\n",
        "    from google.colab import drive\n",
        "    drive.mount('/content/drive')\n",
        "    DATA_PATH = \"/content/drive/MyDrive/dataset/\" \n",
        "else:\n",
        "    DATA_PATH = \"./\"\n",
        "\n",
        "# Download dataset in kaggle\n",
        "if IN_COLAB and not os.path.exists(DATA_PATH + \"HAM10000_metadata.csv\"):\n",
        "    !pip install kaggle\n",
        "    from google.colab import files\n",
        "    files.upload()  # Upload kaggle.json manually (for API authentication)\n",
        "\n",
        "    !mkdir -p ~/.kaggle\n",
        "    !cp kaggle.json ~/.kaggle/\n",
        "    !chmod 600 ~/.kaggle/kaggle.json\n",
        "    !kaggle datasets download -d kmader/skin-cancer-mnist-ham10000 -p {DATA_PATH} --unzip\n",
        "    print(\"Dataset downloaded and extracted.\")\n",
        "\n",
        "# Initialize required path\n",
        "metadata_path = os.path.join(DATA_PATH, \"HAM10000_metadata.csv\")\n",
        "images_path = os.path.join(DATA_PATH, \"HAM10000_images_part_1/\")\n",
        "\n",
        "df = pd.read_csv(metadata_path)"
      ]
    },
    {
      "cell_type": "code",
      "execution_count": 58,
      "metadata": {
        "id": "N2wH9w0mGEDv"
      },
      "outputs": [
        {
          "data": {
            "text/html": [
              "<div>\n",
              "<style scoped>\n",
              "    .dataframe tbody tr th:only-of-type {\n",
              "        vertical-align: middle;\n",
              "    }\n",
              "\n",
              "    .dataframe tbody tr th {\n",
              "        vertical-align: top;\n",
              "    }\n",
              "\n",
              "    .dataframe thead th {\n",
              "        text-align: right;\n",
              "    }\n",
              "</style>\n",
              "<table border=\"1\" class=\"dataframe\">\n",
              "  <thead>\n",
              "    <tr style=\"text-align: right;\">\n",
              "      <th></th>\n",
              "      <th>lesion_id</th>\n",
              "      <th>image_id</th>\n",
              "      <th>dx</th>\n",
              "      <th>dx_type</th>\n",
              "      <th>age</th>\n",
              "      <th>sex</th>\n",
              "      <th>localization</th>\n",
              "    </tr>\n",
              "  </thead>\n",
              "  <tbody>\n",
              "    <tr>\n",
              "      <th>0</th>\n",
              "      <td>HAM_0000118</td>\n",
              "      <td>ISIC_0027419</td>\n",
              "      <td>bkl</td>\n",
              "      <td>histo</td>\n",
              "      <td>80.0</td>\n",
              "      <td>male</td>\n",
              "      <td>scalp</td>\n",
              "    </tr>\n",
              "    <tr>\n",
              "      <th>1</th>\n",
              "      <td>HAM_0000118</td>\n",
              "      <td>ISIC_0025030</td>\n",
              "      <td>bkl</td>\n",
              "      <td>histo</td>\n",
              "      <td>80.0</td>\n",
              "      <td>male</td>\n",
              "      <td>scalp</td>\n",
              "    </tr>\n",
              "    <tr>\n",
              "      <th>2</th>\n",
              "      <td>HAM_0002730</td>\n",
              "      <td>ISIC_0026769</td>\n",
              "      <td>bkl</td>\n",
              "      <td>histo</td>\n",
              "      <td>80.0</td>\n",
              "      <td>male</td>\n",
              "      <td>scalp</td>\n",
              "    </tr>\n",
              "    <tr>\n",
              "      <th>3</th>\n",
              "      <td>HAM_0002730</td>\n",
              "      <td>ISIC_0025661</td>\n",
              "      <td>bkl</td>\n",
              "      <td>histo</td>\n",
              "      <td>80.0</td>\n",
              "      <td>male</td>\n",
              "      <td>scalp</td>\n",
              "    </tr>\n",
              "    <tr>\n",
              "      <th>4</th>\n",
              "      <td>HAM_0001466</td>\n",
              "      <td>ISIC_0031633</td>\n",
              "      <td>bkl</td>\n",
              "      <td>histo</td>\n",
              "      <td>75.0</td>\n",
              "      <td>male</td>\n",
              "      <td>ear</td>\n",
              "    </tr>\n",
              "  </tbody>\n",
              "</table>\n",
              "</div>"
            ],
            "text/plain": [
              "     lesion_id      image_id   dx dx_type   age   sex localization\n",
              "0  HAM_0000118  ISIC_0027419  bkl   histo  80.0  male        scalp\n",
              "1  HAM_0000118  ISIC_0025030  bkl   histo  80.0  male        scalp\n",
              "2  HAM_0002730  ISIC_0026769  bkl   histo  80.0  male        scalp\n",
              "3  HAM_0002730  ISIC_0025661  bkl   histo  80.0  male        scalp\n",
              "4  HAM_0001466  ISIC_0031633  bkl   histo  75.0  male          ear"
            ]
          },
          "execution_count": 58,
          "metadata": {},
          "output_type": "execute_result"
        }
      ],
      "source": [
        "#code to check sample data\n",
        "df.head()"
      ]
    },
    {
      "cell_type": "markdown",
      "metadata": {
        "id": "sRpOWEByGPuE"
      },
      "source": [
        "### Step 4: Basic Exploration"
      ]
    },
    {
      "cell_type": "code",
      "execution_count": 59,
      "metadata": {
        "id": "eHhif5-AGMlB"
      },
      "outputs": [
        {
          "name": "stdout",
          "output_type": "stream",
          "text": [
            "Number of rows:  10015\n",
            "Number of columns:  7\n",
            "\n",
            "\n",
            "Column Names: Index(['lesion_id', 'image_id', 'dx', 'dx_type', 'age', 'sex', 'localization'], dtype='object')\n",
            "\n",
            "\n",
            "Missing Values:\n",
            " lesion_id        0\n",
            "image_id         0\n",
            "dx               0\n",
            "dx_type          0\n",
            "age             57\n",
            "sex              0\n",
            "localization     0\n",
            "dtype: int64\n"
          ]
        }
      ],
      "source": [
        "print(\"Number of rows: \", df.shape[0])\n",
        "print(\"Number of columns: \", df.shape[1])\n",
        "print(\"\\n\")\n",
        "print(\"Column Names:\", df.columns)\n",
        "print(\"\\n\")\n",
        "print(\"Missing Values:\\n\", df.isnull().sum())"
      ]
    },
    {
      "cell_type": "markdown",
      "metadata": {
        "id": "d2YFNYJUGgN2"
      },
      "source": [
        "### Step 5: Data Preprocessing\n"
      ]
    },
    {
      "cell_type": "markdown",
      "metadata": {
        "id": "7wvJlfpqKV1S"
      },
      "source": [
        "1. Age column has 57 missing value, updating missing value with median"
      ]
    },
    {
      "cell_type": "code",
      "execution_count": 60,
      "metadata": {
        "id": "dHoMNgrUGkGh"
      },
      "outputs": [],
      "source": [
        "# Fill missing age values with the median age\n",
        "df['age'] = df['age'].fillna(df['age'].median())"
      ]
    },
    {
      "cell_type": "markdown",
      "metadata": {
        "id": "gymqWd_cKlfV"
      },
      "source": [
        "2. There are 3 categorical variables, Using label encoder to convert these string to numerical columns\n",
        "    1. Gender\n",
        "    2. Diagnosis class\n",
        "    3. Localization\n"
      ]
    },
    {
      "cell_type": "code",
      "execution_count": 61,
      "metadata": {
        "id": "YSL5LIcTGqrq"
      },
      "outputs": [
        {
          "data": {
            "text/html": [
              "<div>\n",
              "<style scoped>\n",
              "    .dataframe tbody tr th:only-of-type {\n",
              "        vertical-align: middle;\n",
              "    }\n",
              "\n",
              "    .dataframe tbody tr th {\n",
              "        vertical-align: top;\n",
              "    }\n",
              "\n",
              "    .dataframe thead th {\n",
              "        text-align: right;\n",
              "    }\n",
              "</style>\n",
              "<table border=\"1\" class=\"dataframe\">\n",
              "  <thead>\n",
              "    <tr style=\"text-align: right;\">\n",
              "      <th></th>\n",
              "      <th>lesion_id</th>\n",
              "      <th>image_id</th>\n",
              "      <th>dx</th>\n",
              "      <th>dx_type</th>\n",
              "      <th>age</th>\n",
              "      <th>sex</th>\n",
              "      <th>localization</th>\n",
              "    </tr>\n",
              "  </thead>\n",
              "  <tbody>\n",
              "    <tr>\n",
              "      <th>0</th>\n",
              "      <td>HAM_0000118</td>\n",
              "      <td>ISIC_0027419</td>\n",
              "      <td>2</td>\n",
              "      <td>histo</td>\n",
              "      <td>80.0</td>\n",
              "      <td>1</td>\n",
              "      <td>11</td>\n",
              "    </tr>\n",
              "    <tr>\n",
              "      <th>1</th>\n",
              "      <td>HAM_0000118</td>\n",
              "      <td>ISIC_0025030</td>\n",
              "      <td>2</td>\n",
              "      <td>histo</td>\n",
              "      <td>80.0</td>\n",
              "      <td>1</td>\n",
              "      <td>11</td>\n",
              "    </tr>\n",
              "    <tr>\n",
              "      <th>2</th>\n",
              "      <td>HAM_0002730</td>\n",
              "      <td>ISIC_0026769</td>\n",
              "      <td>2</td>\n",
              "      <td>histo</td>\n",
              "      <td>80.0</td>\n",
              "      <td>1</td>\n",
              "      <td>11</td>\n",
              "    </tr>\n",
              "    <tr>\n",
              "      <th>3</th>\n",
              "      <td>HAM_0002730</td>\n",
              "      <td>ISIC_0025661</td>\n",
              "      <td>2</td>\n",
              "      <td>histo</td>\n",
              "      <td>80.0</td>\n",
              "      <td>1</td>\n",
              "      <td>11</td>\n",
              "    </tr>\n",
              "    <tr>\n",
              "      <th>4</th>\n",
              "      <td>HAM_0001466</td>\n",
              "      <td>ISIC_0031633</td>\n",
              "      <td>2</td>\n",
              "      <td>histo</td>\n",
              "      <td>75.0</td>\n",
              "      <td>1</td>\n",
              "      <td>4</td>\n",
              "    </tr>\n",
              "  </tbody>\n",
              "</table>\n",
              "</div>"
            ],
            "text/plain": [
              "     lesion_id      image_id  dx dx_type   age  sex  localization\n",
              "0  HAM_0000118  ISIC_0027419   2   histo  80.0    1            11\n",
              "1  HAM_0000118  ISIC_0025030   2   histo  80.0    1            11\n",
              "2  HAM_0002730  ISIC_0026769   2   histo  80.0    1            11\n",
              "3  HAM_0002730  ISIC_0025661   2   histo  80.0    1            11\n",
              "4  HAM_0001466  ISIC_0031633   2   histo  75.0    1             4"
            ]
          },
          "execution_count": 61,
          "metadata": {},
          "output_type": "execute_result"
        }
      ],
      "source": [
        "# Encode categorical variables\n",
        "le_sex = LabelEncoder()\n",
        "# 0 = Female, 1 = Male, 2= unknown\n",
        "df['sex'] = le_sex.fit_transform(df['sex'])\n",
        "\n",
        "le_dx = LabelEncoder()\n",
        "# Encodes the 7 diagnosis classes\n",
        "#0-akiec, 1-bcc, 2-bkl, 3-df, 4-mel, 5-nv, 6-vasc\n",
        "df['dx'] = le_dx.fit_transform(df['dx'])\n",
        "\n",
        "le_localization = LabelEncoder()\n",
        "# Encodes the 15 localization classes\n",
        "# 0-abdomen, 1- acral, 2-back, 3-chest, 4- ear, 5-face, 6-foot, 7-genital, 8-hand, 9-lower extremity, 10-neck, 11-scalp, 12-trunk, 13-unknown, 14-upper extremity\n",
        "df['localization'] = le_localization.fit_transform(df['localization'])\n",
        "\n",
        "#check sample data\n",
        "df.head()"
      ]
    },
    {
      "cell_type": "markdown",
      "metadata": {
        "id": "fWmo8HLdHYL-"
      },
      "source": [
        "### Step 6: Exploratory Data Analysis (EDA)"
      ]
    },
    {
      "cell_type": "code",
      "execution_count": 62,
      "metadata": {
        "id": "g24pmjh1Jszt"
      },
      "outputs": [
        {
          "data": {
            "image/png": "[encoded data removed]",
            "text/plain": [
              "<Figure size 1000x500 with 1 Axes>"
            ]
          },
          "metadata": {},
          "output_type": "display_data"
        }
      ],
      "source": [
        "# Plot class distribution\n",
        "plt.figure(figsize=(10, 5))\n",
        "sns.countplot(x='dx', hue='dx', data=df, palette='coolwarm')\n",
        "plt.xticks(rotation=45)\n",
        "plt.title(\"Distribution of Lesion Types\")\n",
        "\n",
        "# Create custom legend labels\n",
        "legend_labels = {\n",
        "    0: 'akiec',\n",
        "    1: 'bcc',\n",
        "    2: 'bkl',\n",
        "    3: 'df',\n",
        "    4: 'mel',\n",
        "    5: 'nv',\n",
        "    6: 'vasc'\n",
        "}\n",
        "\n",
        "# Get the current handles and labels from the plot\n",
        "handles, labels = plt.gca().get_legend_handles_labels()\n",
        "\n",
        "# Create a new list of legend labels using the custom mapping\n",
        "new_labels = [legend_labels[int(label)] for label in labels]\n",
        "\n",
        "# Create the legend with the updated labels\n",
        "plt.legend(handles, new_labels, title='Lesion Type')\n",
        "\n",
        "plt.show()\n"
      ]
    },
    {
      "cell_type": "markdown",
      "metadata": {
        "id": "HsyAYUPXTURJ"
      },
      "source": [
        "#### Type of lesions\n",
        "\n",
        "- akiec (Actinic keratoses and intraepithelial carcinoma)\n",
        "- bcc (Basal cell carcinoma)\n",
        "- bkl (Benign keratosis-like lesions)\n",
        "- df (Dermatofibroma)\n",
        "- mel (Melanoma)\n",
        "- nv (Melanocytic nevi)\n",
        "- vasc (Vascular lesions)\n",
        "\n",
        "The plot above suggests that melanocytic nevi are the most common type of skin lesion in the dataset."
      ]
    },
    {
      "cell_type": "code",
      "execution_count": 63,
      "metadata": {
        "id": "_KeCA5-IHbFr"
      },
      "outputs": [
        {
          "data": {
            "image/png": "[encoded data removed]",
            "text/plain": [
              "<Figure size 800x400 with 1 Axes>"
            ]
          },
          "metadata": {},
          "output_type": "display_data"
        }
      ],
      "source": [
        "# Age distribution\n",
        "plt.figure(figsize=(8, 4))\n",
        "sns.histplot(df['age'], bins=30, kde=True)\n",
        "plt.title(\"Age Distribution of Patients\")\n",
        "plt.xlabel(\"Age\")\n",
        "plt.show()"
      ]
    },
    {
      "cell_type": "markdown",
      "metadata": {
        "id": "XeedNZvzWpc3"
      },
      "source": [
        "- The plot represents the age distribution of patients in the dataset.\n",
        "- It shows that most patients are between 30 and 60 years old, with a peak around the 40s.\n",
        "- The distribution indicates a higher frequency of older patients compared to younger ones."
      ]
    },
    {
      "cell_type": "code",
      "execution_count": 64,
      "metadata": {
        "id": "lIAupo8JHdbZ"
      },
      "outputs": [
        {
          "data": {
            "image/png": "[encoded data removed]",
            "text/plain": [
              "<Figure size 600x400 with 1 Axes>"
            ]
          },
          "metadata": {},
          "output_type": "display_data"
        }
      ],
      "source": [
        "# Sex distribution\n",
        "plt.figure(figsize=(6, 4))\n",
        "sns.countplot(x='sex', hue='sex', data=df, palette='viridis')\n",
        "plt.xticks(ticks=[0, 1, 2], labels=['Female', 'Male', 'unknown'])\n",
        "plt.title(\"Gender Distribution\")\n",
        "plt.show()"
      ]
    },
    {
      "cell_type": "markdown",
      "metadata": {
        "id": "P6UvzCS2XKsW"
      },
      "source": [
        "- The plot indicates that Males are most affected with skin cancer as compared to females and unknown"
      ]
    },
    {
      "cell_type": "markdown",
      "metadata": {
        "id": "I5vZSoHZISiY"
      },
      "source": [
        "### Step 7: Statistical Tests"
      ]
    },
    {
      "cell_type": "markdown",
      "metadata": {
        "id": "HdvM173PXzjN"
      },
      "source": [
        "**t-test:**\n",
        "\n",
        "A t-test is a statistical test used to compare the means of two groups to determine if they are significantly different from each other. It is commonly used in hypothesis testing."
      ]
    },
    {
      "cell_type": "markdown",
      "metadata": {
        "id": "4SAEXmMyf0IB"
      },
      "source": [
        "**Benign Lesions**\n",
        "The benign category includes non-cancerous (harmless) lesions:\n",
        "bkl (Benign keratosis-like lesions)\n",
        "nv (Melanocytic nevi - common moles)\n",
        "These lesions are generally not life-threatening and do not spread aggressively.\n",
        "\n",
        "**Malignant Lesions**\n",
        "The malignant category includes cancerous (harmful) lesions:\n",
        "mel (Melanoma - the deadliest form of skin cancer)\n",
        "bcc (Basal cell carcinoma - a slow-growing skin cancer)\n",
        "akiec (Actinic keratoses and intraepithelial carcinoma - precancerous/cancerous growths)\n",
        "These lesions have the potential to invade nearby tissues and spread if not treated."
      ]
    },
    {
      "cell_type": "code",
      "execution_count": 65,
      "metadata": {
        "id": "oKMbOgLdIPeI"
      },
      "outputs": [],
      "source": [
        "# Hypothesis: Is there a significant difference in age between benign & malignant lesions?\n",
        "benign = df[df['dx'].isin([le_dx.transform(['bkl'])[0], le_dx.transform(['nv'])[0]])]['age']\n",
        "malignant = df[df['dx'].isin([le_dx.transform(['mel'])[0], le_dx.transform(['bcc'])[0], le_dx.transform(['akiec'])[0]])]['age']"
      ]
    },
    {
      "cell_type": "code",
      "execution_count": 66,
      "metadata": {
        "id": "Y1V7hVC4JDwH"
      },
      "outputs": [
        {
          "name": "stdout",
          "output_type": "stream",
          "text": [
            "T-test result: t-statistic = -37.9242, p-value = 0.0000\n",
            "\n",
            " Statistically significant difference in age between benign and malignant lesions.\n"
          ]
        }
      ],
      "source": [
        "# Perform an independent t-test\n",
        "t_stat, p_value = stats.ttest_ind(benign, malignant, equal_var=False)\n",
        "print(f\"T-test result: t-statistic = {t_stat:.4f}, p-value = {p_value:.4f}\")\n",
        "if p_value < 0.05:\n",
        "    print(\"\\n Statistically significant difference in age between benign and malignant lesions.\")\n",
        "else:\n",
        "    print(\"\\n No significant difference in age between benign and malignant lesions.\")"
      ]
    },
    {
      "cell_type": "markdown",
      "metadata": {
        "id": "V5EBaBdoJPV_"
      },
      "source": [
        "### Step 8: Hypothesis Evaluation"
      ]
    },
    {
      "cell_type": "markdown",
      "metadata": {
        "id": "uTfDFF67XqJv"
      },
      "source": [
        "**Chi-Square Test :**\n",
        "\n",
        "The Chi-Square test is a statistical test used to determine if there is a significant association between categorical variables. In this dataset, it can be applied to check if factors like lesion type and patient gender are independent or correlated."
      ]
    },
    {
      "cell_type": "code",
      "execution_count": 67,
      "metadata": {
        "id": "tntZix_aJMaQ"
      },
      "outputs": [
        {
          "name": "stdout",
          "output_type": "stream",
          "text": [
            "Chi-Square Test: chi2 = 106.9038, p-value = 0.0000\n",
            "\n",
            " Statistically significant association between gender and lesion type.\n"
          ]
        }
      ],
      "source": [
        "# Chi-Square test for gender distribution across lesion types\n",
        "contingency_table = pd.crosstab(df['sex'], df['dx'])\n",
        "chi2_stat, p, dof, expected = stats.chi2_contingency(contingency_table)\n",
        "print(f\"Chi-Square Test: chi2 = {chi2_stat:.4f}, p-value = {p:.4f}\")\n",
        "if p < 0.05:\n",
        "    print(\"\\n Statistically significant association between gender and lesion type.\")\n",
        "else:\n",
        "    print(\"\\n No significant association between gender and lesion type.\")"
      ]
    },
    {
      "cell_type": "markdown",
      "metadata": {
        "id": "yEh0Y5wTlIE4"
      },
      "source": [
        "### Step 9: Observations & Summary"
      ]
    },
    {
      "cell_type": "markdown",
      "metadata": {
        "id": "RCEhO9WPkgUe"
      },
      "source": [
        "**Key Findings**\n",
        "\n",
        "**Statistical Tests & Hypothesis Evaluation**\n",
        "\n",
        "t-test was conducted to compare means between different groups.\n",
        "\n",
        "Chi-Square test for gender distribution across lesion types.\n",
        "\n",
        "**Potential Challenges**\n",
        "\n",
        "Class Imbalance:\n",
        "\n",
        "Some lesion types (e.g., Melanocytic nevi) dominate, while others are underrepresented.\n",
        "\n",
        "This could bias the model toward predicting the most common class.\n",
        "\n",
        "**Data Bias:**\n",
        "\n",
        "Higher representation of certain age groups may lead to a model that performs better on middle-aged individuals but poorly on younger or older patients.\n",
        "\n",
        "**Feature Engineering Needed:**\n",
        "\n",
        "Image-based features may need augmentation techniques to balance classes."
      ]
    }
  ],
  "metadata": {
    "colab": {
      "collapsed_sections": [
        "7uMJQdktFFH1",
        "pT8tT7eXFssj"
      ],
      "private_outputs": true,
      "provenance": []
    },
    "kernelspec": {
      "display_name": "Python 3",
      "name": "python3"
    },
    "language_info": {
      "codemirror_mode": {
        "name": "ipython",
        "version": 3
      },
      "file_extension": ".py",
      "mimetype": "text/x-python",
      "name": "python",
      "nbconvert_exporter": "python",
      "pygments_lexer": "ipython3",
      "version": "3.12.6"
    }
  },
  "nbformat": 4,
  "nbformat_minor": 0
}
